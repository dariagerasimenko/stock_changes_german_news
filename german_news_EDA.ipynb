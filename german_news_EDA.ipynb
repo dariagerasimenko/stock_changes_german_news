{
 "cells": [
  {
   "cell_type": "markdown",
   "metadata": {},
   "source": [
    "# Here are news in german language parsed from Telegram Channels"
   ]
  },
  {
   "cell_type": "markdown",
   "metadata": {},
   "source": [
    "## Here we groom the data"
   ]
  },
  {
   "cell_type": "markdown",
   "metadata": {},
   "source": [
    "### we used the following channels:\n",
    "* Frankfurter Zeitung\n",
    "* Tagesschau Nachrichten\n",
    "* Die Weltwoche\n"
   ]
  },
  {
   "cell_type": "code",
   "execution_count": 1,
   "metadata": {},
   "outputs": [],
   "source": [
    "import pandas as pd\n",
    "df2 = pd.io.json.read_json('channel_messages.json')"
   ]
  },
  {
   "cell_type": "code",
   "execution_count": 2,
   "metadata": {},
   "outputs": [],
   "source": [
    "df2['length'] = df2['message'].apply(lambda x: len(str(x)))\n",
    "df2 = df2.drop(df2[df2.length ==0].index)\n",
    "df2['date'] = df2['date'].dt.tz_localize(None)\n",
    "df2[\"message\"] = df2[\"message\"].str.lower()"
   ]
  },
  {
   "cell_type": "code",
   "execution_count": 3,
   "metadata": {},
   "outputs": [],
   "source": [
    "df1 = pd.io.json.read_json('channel_messages_1.json')\n",
    "df1['length'] = df1['message'].apply(lambda x: len(str(x)))\n",
    "df1 = df1.drop(df1[df1.length ==0].index)\n",
    "df1['date'] = df1['date'].dt.tz_localize(None)\n",
    "df1[\"message\"] = df1[\"message\"].str.lower()\n"
   ]
  },
  {
   "cell_type": "code",
   "execution_count": 4,
   "metadata": {},
   "outputs": [],
   "source": [
    "df = pd.concat([df2, df1])"
   ]
  },
  {
   "cell_type": "code",
   "execution_count": 5,
   "metadata": {},
   "outputs": [],
   "source": [
    "# a function which searches for companies in each post\n",
    "def comp(x):\n",
    "    if 'allianz' in x or ' alv ' in x:\n",
    "        y = 'Allianz'\n",
    "    elif ' basf ' in x or ' bas ' in x:\n",
    "        y = 'BASF'\n",
    "    elif ' bmw ' in x :\n",
    "        y = 'BMW'\n",
    "    elif 'delivery hero' in x or ' dher ' in x:\n",
    "        y = 'DELIVERY HERO'\n",
    "    elif 'deutschebank' in x or 'deutsche bank' in x or ' dbk ' in x:\n",
    "        y = 'DEUTSCHEBANK'\n",
    "    elif 'deutsche telekom' in x or 'deutschetelekom' in x or ' dte ' in x:\n",
    "        y = 'Deutsche Telekom'\n",
    "    elif 'hellofresh' in x or ' hfg ' in x:\n",
    "        y = 'HELLOFRESH'\n",
    "    elif 'henkel' in x or ' hen ' in x:\n",
    "        y = 'HENKEL'\n",
    "    elif ' hugo ' in x or ' boss ' in x:\n",
    "        y = 'HUGO BOSS'\n",
    "    elif 'lufthansa' in x or ' lha ' in x:\n",
    "        y = 'LUFTHANSA'\n",
    "    elif ' sap ' in x:\n",
    "        y = 'SAP'\n",
    "    elif 'siemens' in x or '#sie ' in x:\n",
    "        y = 'SIEMENS'\n",
    "    elif 'unilever' in x or ' una ' in x:\n",
    "        y = 'UNILEVER'\n",
    "    elif 'volkswagen' in x or 'vow3' in x:\n",
    "        y = 'VOLKSWAGEN'\n",
    "    elif 'zalando' in x or ' zal ' in x:\n",
    "        y = 'ZAL'\n",
    "    else:\n",
    "        y = \"None\"\n",
    "    return y"
   ]
  },
  {
   "cell_type": "code",
   "execution_count": 6,
   "metadata": {},
   "outputs": [],
   "source": [
    "data2 = df\n",
    "data2['COMP'] = data2.message.apply(lambda x: comp(str(x)))"
   ]
  },
  {
   "cell_type": "code",
   "execution_count": 8,
   "metadata": {},
   "outputs": [],
   "source": [
    "data2['just_date'] = data2.date.dt.date"
   ]
  },
  {
   "cell_type": "code",
   "execution_count": 9,
   "metadata": {},
   "outputs": [],
   "source": [
    "data3 = data2[data2['COMP'] != 'None']"
   ]
  },
  {
   "cell_type": "code",
   "execution_count": 10,
   "metadata": {},
   "outputs": [
    {
     "data": {
      "text/html": [
       "<div>\n",
       "<style scoped>\n",
       "    .dataframe tbody tr th:only-of-type {\n",
       "        vertical-align: middle;\n",
       "    }\n",
       "\n",
       "    .dataframe tbody tr th {\n",
       "        vertical-align: top;\n",
       "    }\n",
       "\n",
       "    .dataframe thead th {\n",
       "        text-align: right;\n",
       "    }\n",
       "</style>\n",
       "<table border=\"1\" class=\"dataframe\">\n",
       "  <thead>\n",
       "    <tr style=\"text-align: right;\">\n",
       "      <th></th>\n",
       "      <th>_</th>\n",
       "      <th>id</th>\n",
       "      <th>peer_id</th>\n",
       "      <th>date</th>\n",
       "      <th>message</th>\n",
       "      <th>out</th>\n",
       "      <th>mentioned</th>\n",
       "      <th>media_unread</th>\n",
       "      <th>silent</th>\n",
       "      <th>post</th>\n",
       "      <th>...</th>\n",
       "      <th>replies</th>\n",
       "      <th>edit_date</th>\n",
       "      <th>post_author</th>\n",
       "      <th>grouped_id</th>\n",
       "      <th>restriction_reason</th>\n",
       "      <th>ttl_period</th>\n",
       "      <th>action</th>\n",
       "      <th>length</th>\n",
       "      <th>COMP</th>\n",
       "      <th>just_date</th>\n",
       "    </tr>\n",
       "  </thead>\n",
       "  <tbody>\n",
       "    <tr>\n",
       "      <th>7</th>\n",
       "      <td>Message</td>\n",
       "      <td>145038</td>\n",
       "      <td>{'_': 'PeerChannel', 'channel_id': 1430790847}</td>\n",
       "      <td>2023-07-29 09:35:59</td>\n",
       "      <td>​​​​​bankenaufsicht eba: deutsche banken schne...</td>\n",
       "      <td>False</td>\n",
       "      <td>False</td>\n",
       "      <td>False</td>\n",
       "      <td>False</td>\n",
       "      <td>True</td>\n",
       "      <td>...</td>\n",
       "      <td>NaN</td>\n",
       "      <td>None</td>\n",
       "      <td>NaN</td>\n",
       "      <td>NaN</td>\n",
       "      <td>[]</td>\n",
       "      <td>NaN</td>\n",
       "      <td>NaN</td>\n",
       "      <td>330</td>\n",
       "      <td>DEUTSCHEBANK</td>\n",
       "      <td>2023-07-29</td>\n",
       "    </tr>\n",
       "    <tr>\n",
       "      <th>31</th>\n",
       "      <td>Message</td>\n",
       "      <td>145014</td>\n",
       "      <td>{'_': 'PeerChannel', 'channel_id': 1430790847}</td>\n",
       "      <td>2023-07-29 00:56:34</td>\n",
       "      <td>​​​​​klimaaktivismus: drei fluglinien prüfen k...</td>\n",
       "      <td>False</td>\n",
       "      <td>False</td>\n",
       "      <td>False</td>\n",
       "      <td>False</td>\n",
       "      <td>True</td>\n",
       "      <td>...</td>\n",
       "      <td>NaN</td>\n",
       "      <td>None</td>\n",
       "      <td>NaN</td>\n",
       "      <td>NaN</td>\n",
       "      <td>[]</td>\n",
       "      <td>NaN</td>\n",
       "      <td>NaN</td>\n",
       "      <td>397</td>\n",
       "      <td>LUFTHANSA</td>\n",
       "      <td>2023-07-29</td>\n",
       "    </tr>\n",
       "    <tr>\n",
       "      <th>98</th>\n",
       "      <td>Message</td>\n",
       "      <td>144947</td>\n",
       "      <td>{'_': 'PeerChannel', 'channel_id': 1430790847}</td>\n",
       "      <td>2023-07-28 10:14:33</td>\n",
       "      <td>​​​​​führungspositionen teilen: wie teilzeit-m...</td>\n",
       "      <td>False</td>\n",
       "      <td>False</td>\n",
       "      <td>False</td>\n",
       "      <td>False</td>\n",
       "      <td>True</td>\n",
       "      <td>...</td>\n",
       "      <td>NaN</td>\n",
       "      <td>None</td>\n",
       "      <td>NaN</td>\n",
       "      <td>NaN</td>\n",
       "      <td>[]</td>\n",
       "      <td>NaN</td>\n",
       "      <td>NaN</td>\n",
       "      <td>299</td>\n",
       "      <td>SIEMENS</td>\n",
       "      <td>2023-07-28</td>\n",
       "    </tr>\n",
       "    <tr>\n",
       "      <th>123</th>\n",
       "      <td>Message</td>\n",
       "      <td>144922</td>\n",
       "      <td>{'_': 'PeerChannel', 'channel_id': 1430790847}</td>\n",
       "      <td>2023-07-28 06:14:37</td>\n",
       "      <td>​​​​​basf treibt sparprogramm voran\\n#dirkelve...</td>\n",
       "      <td>False</td>\n",
       "      <td>False</td>\n",
       "      <td>False</td>\n",
       "      <td>False</td>\n",
       "      <td>True</td>\n",
       "      <td>...</td>\n",
       "      <td>NaN</td>\n",
       "      <td>None</td>\n",
       "      <td>NaN</td>\n",
       "      <td>NaN</td>\n",
       "      <td>[]</td>\n",
       "      <td>NaN</td>\n",
       "      <td>NaN</td>\n",
       "      <td>230</td>\n",
       "      <td>BASF</td>\n",
       "      <td>2023-07-28</td>\n",
       "    </tr>\n",
       "    <tr>\n",
       "      <th>170</th>\n",
       "      <td>Message</td>\n",
       "      <td>144875</td>\n",
       "      <td>{'_': 'PeerChannel', 'channel_id': 1430790847}</td>\n",
       "      <td>2023-07-27 15:40:31</td>\n",
       "      <td>​​​​​frauen wissen mehr über finanzen als männ...</td>\n",
       "      <td>False</td>\n",
       "      <td>False</td>\n",
       "      <td>False</td>\n",
       "      <td>False</td>\n",
       "      <td>True</td>\n",
       "      <td>...</td>\n",
       "      <td>NaN</td>\n",
       "      <td>None</td>\n",
       "      <td>NaN</td>\n",
       "      <td>NaN</td>\n",
       "      <td>[]</td>\n",
       "      <td>NaN</td>\n",
       "      <td>NaN</td>\n",
       "      <td>348</td>\n",
       "      <td>Allianz</td>\n",
       "      <td>2023-07-27</td>\n",
       "    </tr>\n",
       "    <tr>\n",
       "      <th>...</th>\n",
       "      <td>...</td>\n",
       "      <td>...</td>\n",
       "      <td>...</td>\n",
       "      <td>...</td>\n",
       "      <td>...</td>\n",
       "      <td>...</td>\n",
       "      <td>...</td>\n",
       "      <td>...</td>\n",
       "      <td>...</td>\n",
       "      <td>...</td>\n",
       "      <td>...</td>\n",
       "      <td>...</td>\n",
       "      <td>...</td>\n",
       "      <td>...</td>\n",
       "      <td>...</td>\n",
       "      <td>...</td>\n",
       "      <td>...</td>\n",
       "      <td>...</td>\n",
       "      <td>...</td>\n",
       "      <td>...</td>\n",
       "      <td>...</td>\n",
       "    </tr>\n",
       "    <tr>\n",
       "      <th>86272</th>\n",
       "      <td>Message</td>\n",
       "      <td>1845</td>\n",
       "      <td>{'_': 'PeerChannel', 'channel_id': 1121689622}</td>\n",
       "      <td>2017-07-11 14:00:01</td>\n",
       "      <td>http://www.tagesschau.de/wirtschaft/siemens-kr...</td>\n",
       "      <td>False</td>\n",
       "      <td>False</td>\n",
       "      <td>False</td>\n",
       "      <td>False</td>\n",
       "      <td>True</td>\n",
       "      <td>...</td>\n",
       "      <td>None</td>\n",
       "      <td>None</td>\n",
       "      <td>NaN</td>\n",
       "      <td>NaN</td>\n",
       "      <td>[]</td>\n",
       "      <td>NaN</td>\n",
       "      <td>NaN</td>\n",
       "      <td>57</td>\n",
       "      <td>SIEMENS</td>\n",
       "      <td>2017-07-11</td>\n",
       "    </tr>\n",
       "    <tr>\n",
       "      <th>86279</th>\n",
       "      <td>Message</td>\n",
       "      <td>1838</td>\n",
       "      <td>{'_': 'PeerChannel', 'channel_id': 1121689622}</td>\n",
       "      <td>2017-07-11 11:55:03</td>\n",
       "      <td>http://www.tagesschau.de/wirtschaft/siemens-kr...</td>\n",
       "      <td>False</td>\n",
       "      <td>False</td>\n",
       "      <td>False</td>\n",
       "      <td>False</td>\n",
       "      <td>True</td>\n",
       "      <td>...</td>\n",
       "      <td>None</td>\n",
       "      <td>None</td>\n",
       "      <td>NaN</td>\n",
       "      <td>NaN</td>\n",
       "      <td>[]</td>\n",
       "      <td>NaN</td>\n",
       "      <td>NaN</td>\n",
       "      <td>57</td>\n",
       "      <td>SIEMENS</td>\n",
       "      <td>2017-07-11</td>\n",
       "    </tr>\n",
       "    <tr>\n",
       "      <th>86925</th>\n",
       "      <td>Message</td>\n",
       "      <td>1161</td>\n",
       "      <td>{'_': 'PeerChannel', 'channel_id': 1121689622}</td>\n",
       "      <td>2017-06-25 00:35:03</td>\n",
       "      <td>http://www.tagesschau.de/wirtschaft/lufthansa-...</td>\n",
       "      <td>False</td>\n",
       "      <td>False</td>\n",
       "      <td>False</td>\n",
       "      <td>False</td>\n",
       "      <td>True</td>\n",
       "      <td>...</td>\n",
       "      <td>None</td>\n",
       "      <td>None</td>\n",
       "      <td>NaN</td>\n",
       "      <td>NaN</td>\n",
       "      <td>[]</td>\n",
       "      <td>NaN</td>\n",
       "      <td>NaN</td>\n",
       "      <td>60</td>\n",
       "      <td>LUFTHANSA</td>\n",
       "      <td>2017-06-25</td>\n",
       "    </tr>\n",
       "    <tr>\n",
       "      <th>86979</th>\n",
       "      <td>Message</td>\n",
       "      <td>1104</td>\n",
       "      <td>{'_': 'PeerChannel', 'channel_id': 1121689622}</td>\n",
       "      <td>2017-06-23 07:55:02</td>\n",
       "      <td>http://boerse.ard.de/aktien/rotstift-regiert-b...</td>\n",
       "      <td>False</td>\n",
       "      <td>False</td>\n",
       "      <td>False</td>\n",
       "      <td>False</td>\n",
       "      <td>True</td>\n",
       "      <td>...</td>\n",
       "      <td>None</td>\n",
       "      <td>None</td>\n",
       "      <td>NaN</td>\n",
       "      <td>NaN</td>\n",
       "      <td>[]</td>\n",
       "      <td>NaN</td>\n",
       "      <td>NaN</td>\n",
       "      <td>64</td>\n",
       "      <td>Allianz</td>\n",
       "      <td>2017-06-23</td>\n",
       "    </tr>\n",
       "    <tr>\n",
       "      <th>88091</th>\n",
       "      <td>Message</td>\n",
       "      <td>869</td>\n",
       "      <td>{'_': 'PeerChannel', 'channel_id': 1944772552}</td>\n",
       "      <td>2023-07-13 05:21:09</td>\n",
       "      <td>windräder: kathedraltürme der klima-religion. ...</td>\n",
       "      <td>False</td>\n",
       "      <td>False</td>\n",
       "      <td>False</td>\n",
       "      <td>False</td>\n",
       "      <td>True</td>\n",
       "      <td>...</td>\n",
       "      <td>{'_': 'MessageReplies', 'replies': 0, 'replies...</td>\n",
       "      <td>2023-07-13T06:42:59+00:00</td>\n",
       "      <td>NaN</td>\n",
       "      <td>NaN</td>\n",
       "      <td>[]</td>\n",
       "      <td>NaN</td>\n",
       "      <td>NaN</td>\n",
       "      <td>192</td>\n",
       "      <td>Allianz</td>\n",
       "      <td>2023-07-13</td>\n",
       "    </tr>\n",
       "  </tbody>\n",
       "</table>\n",
       "<p>4608 rows × 33 columns</p>\n",
       "</div>"
      ],
      "text/plain": [
       "             _      id                                         peer_id  \\\n",
       "7      Message  145038  {'_': 'PeerChannel', 'channel_id': 1430790847}   \n",
       "31     Message  145014  {'_': 'PeerChannel', 'channel_id': 1430790847}   \n",
       "98     Message  144947  {'_': 'PeerChannel', 'channel_id': 1430790847}   \n",
       "123    Message  144922  {'_': 'PeerChannel', 'channel_id': 1430790847}   \n",
       "170    Message  144875  {'_': 'PeerChannel', 'channel_id': 1430790847}   \n",
       "...        ...     ...                                             ...   \n",
       "86272  Message    1845  {'_': 'PeerChannel', 'channel_id': 1121689622}   \n",
       "86279  Message    1838  {'_': 'PeerChannel', 'channel_id': 1121689622}   \n",
       "86925  Message    1161  {'_': 'PeerChannel', 'channel_id': 1121689622}   \n",
       "86979  Message    1104  {'_': 'PeerChannel', 'channel_id': 1121689622}   \n",
       "88091  Message     869  {'_': 'PeerChannel', 'channel_id': 1944772552}   \n",
       "\n",
       "                     date                                            message  \\\n",
       "7     2023-07-29 09:35:59  ​​​​​bankenaufsicht eba: deutsche banken schne...   \n",
       "31    2023-07-29 00:56:34  ​​​​​klimaaktivismus: drei fluglinien prüfen k...   \n",
       "98    2023-07-28 10:14:33  ​​​​​führungspositionen teilen: wie teilzeit-m...   \n",
       "123   2023-07-28 06:14:37  ​​​​​basf treibt sparprogramm voran\\n#dirkelve...   \n",
       "170   2023-07-27 15:40:31  ​​​​​frauen wissen mehr über finanzen als männ...   \n",
       "...                   ...                                                ...   \n",
       "86272 2017-07-11 14:00:01  http://www.tagesschau.de/wirtschaft/siemens-kr...   \n",
       "86279 2017-07-11 11:55:03  http://www.tagesschau.de/wirtschaft/siemens-kr...   \n",
       "86925 2017-06-25 00:35:03  http://www.tagesschau.de/wirtschaft/lufthansa-...   \n",
       "86979 2017-06-23 07:55:02  http://boerse.ard.de/aktien/rotstift-regiert-b...   \n",
       "88091 2023-07-13 05:21:09  windräder: kathedraltürme der klima-religion. ...   \n",
       "\n",
       "         out  mentioned  media_unread  silent  post  ...  \\\n",
       "7      False      False         False   False  True  ...   \n",
       "31     False      False         False   False  True  ...   \n",
       "98     False      False         False   False  True  ...   \n",
       "123    False      False         False   False  True  ...   \n",
       "170    False      False         False   False  True  ...   \n",
       "...      ...        ...           ...     ...   ...  ...   \n",
       "86272  False      False         False   False  True  ...   \n",
       "86279  False      False         False   False  True  ...   \n",
       "86925  False      False         False   False  True  ...   \n",
       "86979  False      False         False   False  True  ...   \n",
       "88091  False      False         False   False  True  ...   \n",
       "\n",
       "                                                 replies  \\\n",
       "7                                                    NaN   \n",
       "31                                                   NaN   \n",
       "98                                                   NaN   \n",
       "123                                                  NaN   \n",
       "170                                                  NaN   \n",
       "...                                                  ...   \n",
       "86272                                               None   \n",
       "86279                                               None   \n",
       "86925                                               None   \n",
       "86979                                               None   \n",
       "88091  {'_': 'MessageReplies', 'replies': 0, 'replies...   \n",
       "\n",
       "                       edit_date  post_author  grouped_id  restriction_reason  \\\n",
       "7                           None          NaN         NaN                  []   \n",
       "31                          None          NaN         NaN                  []   \n",
       "98                          None          NaN         NaN                  []   \n",
       "123                         None          NaN         NaN                  []   \n",
       "170                         None          NaN         NaN                  []   \n",
       "...                          ...          ...         ...                 ...   \n",
       "86272                       None          NaN         NaN                  []   \n",
       "86279                       None          NaN         NaN                  []   \n",
       "86925                       None          NaN         NaN                  []   \n",
       "86979                       None          NaN         NaN                  []   \n",
       "88091  2023-07-13T06:42:59+00:00          NaN         NaN                  []   \n",
       "\n",
       "      ttl_period  action length          COMP   just_date  \n",
       "7            NaN     NaN    330  DEUTSCHEBANK  2023-07-29  \n",
       "31           NaN     NaN    397     LUFTHANSA  2023-07-29  \n",
       "98           NaN     NaN    299       SIEMENS  2023-07-28  \n",
       "123          NaN     NaN    230          BASF  2023-07-28  \n",
       "170          NaN     NaN    348       Allianz  2023-07-27  \n",
       "...          ...     ...    ...           ...         ...  \n",
       "86272        NaN     NaN     57       SIEMENS  2017-07-11  \n",
       "86279        NaN     NaN     57       SIEMENS  2017-07-11  \n",
       "86925        NaN     NaN     60     LUFTHANSA  2017-06-25  \n",
       "86979        NaN     NaN     64       Allianz  2017-06-23  \n",
       "88091        NaN     NaN    192       Allianz  2023-07-13  \n",
       "\n",
       "[4608 rows x 33 columns]"
      ]
     },
     "execution_count": 10,
     "metadata": {},
     "output_type": "execute_result"
    }
   ],
   "source": [
    "data3"
   ]
  },
  {
   "cell_type": "code",
   "execution_count": 11,
   "metadata": {},
   "outputs": [
    {
     "data": {
      "text/plain": [
       "None                229293\n",
       "VOLKSWAGEN            1270\n",
       "LUFTHANSA              930\n",
       "DEUTSCHEBANK           789\n",
       "SIEMENS                479\n",
       "Allianz                359\n",
       "BMW                    177\n",
       "Deutsche Telekom       142\n",
       "HENKEL                 125\n",
       "BASF                    92\n",
       "ZAL                     74\n",
       "SAP                     50\n",
       "UNILEVER                45\n",
       "HUGO BOSS               33\n",
       "DELIVERY HERO           28\n",
       "HELLOFRESH              15\n",
       "Name: COMP, dtype: int64"
      ]
     },
     "execution_count": 11,
     "metadata": {},
     "output_type": "execute_result"
    }
   ],
   "source": [
    "data2['COMP'].value_counts()"
   ]
  },
  {
   "cell_type": "code",
   "execution_count": 12,
   "metadata": {},
   "outputs": [],
   "source": [
    "grouped_data = data3[['just_date', 'COMP', 'length']].groupby(['just_date', 'COMP']).count()"
   ]
  },
  {
   "cell_type": "code",
   "execution_count": 13,
   "metadata": {},
   "outputs": [],
   "source": [
    "grouped_data = pd.DataFrame(grouped_data).reset_index()\n"
   ]
  },
  {
   "cell_type": "code",
   "execution_count": 14,
   "metadata": {},
   "outputs": [],
   "source": [
    "import numpy as np"
   ]
  },
  {
   "cell_type": "code",
   "execution_count": 15,
   "metadata": {},
   "outputs": [],
   "source": [
    "\n",
    "import pandas as pd\n",
    "import matplotlib.pyplot as plt\n",
    "import seaborn as sns\n",
    "companies = grouped_data['COMP'].unique()"
   ]
  },
  {
   "cell_type": "code",
   "execution_count": 16,
   "metadata": {},
   "outputs": [],
   "source": [
    "companies = grouped_data['COMP'].unique()\n",
    "all_dates = pd.date_range(start=grouped_data['just_date'].min(), end=grouped_data['just_date'].max(), freq='D')\n",
    "all_dates_df = pd.DataFrame({'just_date': all_dates})\n",
    "len(all_dates_df)\n",
    "all_array = np.full((len(all_dates_df), len(companies)), companies)\n",
    "all_dates_df['COMP'] = list(all_array)\n",
    "all_ = all_dates_df.explode('COMP')\n",
    "all_ = all_[all_[\"just_date\"]>='2019-02-22']\n"
   ]
  },
  {
   "cell_type": "code",
   "execution_count": 17,
   "metadata": {},
   "outputs": [
    {
     "data": {
      "text/html": [
       "<div>\n",
       "<style scoped>\n",
       "    .dataframe tbody tr th:only-of-type {\n",
       "        vertical-align: middle;\n",
       "    }\n",
       "\n",
       "    .dataframe tbody tr th {\n",
       "        vertical-align: top;\n",
       "    }\n",
       "\n",
       "    .dataframe thead th {\n",
       "        text-align: right;\n",
       "    }\n",
       "</style>\n",
       "<table border=\"1\" class=\"dataframe\">\n",
       "  <thead>\n",
       "    <tr style=\"text-align: right;\">\n",
       "      <th></th>\n",
       "      <th>just_date</th>\n",
       "      <th>COMP</th>\n",
       "      <th>length</th>\n",
       "    </tr>\n",
       "  </thead>\n",
       "  <tbody>\n",
       "    <tr>\n",
       "      <th>0</th>\n",
       "      <td>2017-06-23</td>\n",
       "      <td>Allianz</td>\n",
       "      <td>1</td>\n",
       "    </tr>\n",
       "    <tr>\n",
       "      <th>1</th>\n",
       "      <td>2017-06-25</td>\n",
       "      <td>LUFTHANSA</td>\n",
       "      <td>1</td>\n",
       "    </tr>\n",
       "    <tr>\n",
       "      <th>2</th>\n",
       "      <td>2017-07-11</td>\n",
       "      <td>SIEMENS</td>\n",
       "      <td>2</td>\n",
       "    </tr>\n",
       "    <tr>\n",
       "      <th>3</th>\n",
       "      <td>2017-07-21</td>\n",
       "      <td>SIEMENS</td>\n",
       "      <td>1</td>\n",
       "    </tr>\n",
       "    <tr>\n",
       "      <th>4</th>\n",
       "      <td>2017-07-28</td>\n",
       "      <td>Allianz</td>\n",
       "      <td>1</td>\n",
       "    </tr>\n",
       "    <tr>\n",
       "      <th>...</th>\n",
       "      <td>...</td>\n",
       "      <td>...</td>\n",
       "      <td>...</td>\n",
       "    </tr>\n",
       "    <tr>\n",
       "      <th>3275</th>\n",
       "      <td>2023-07-27</td>\n",
       "      <td>VOLKSWAGEN</td>\n",
       "      <td>3</td>\n",
       "    </tr>\n",
       "    <tr>\n",
       "      <th>3276</th>\n",
       "      <td>2023-07-28</td>\n",
       "      <td>BASF</td>\n",
       "      <td>2</td>\n",
       "    </tr>\n",
       "    <tr>\n",
       "      <th>3277</th>\n",
       "      <td>2023-07-28</td>\n",
       "      <td>SIEMENS</td>\n",
       "      <td>1</td>\n",
       "    </tr>\n",
       "    <tr>\n",
       "      <th>3278</th>\n",
       "      <td>2023-07-29</td>\n",
       "      <td>DEUTSCHEBANK</td>\n",
       "      <td>1</td>\n",
       "    </tr>\n",
       "    <tr>\n",
       "      <th>3279</th>\n",
       "      <td>2023-07-29</td>\n",
       "      <td>LUFTHANSA</td>\n",
       "      <td>1</td>\n",
       "    </tr>\n",
       "  </tbody>\n",
       "</table>\n",
       "<p>3280 rows × 3 columns</p>\n",
       "</div>"
      ],
      "text/plain": [
       "       just_date          COMP  length\n",
       "0     2017-06-23       Allianz       1\n",
       "1     2017-06-25     LUFTHANSA       1\n",
       "2     2017-07-11       SIEMENS       2\n",
       "3     2017-07-21       SIEMENS       1\n",
       "4     2017-07-28       Allianz       1\n",
       "...          ...           ...     ...\n",
       "3275  2023-07-27    VOLKSWAGEN       3\n",
       "3276  2023-07-28          BASF       2\n",
       "3277  2023-07-28       SIEMENS       1\n",
       "3278  2023-07-29  DEUTSCHEBANK       1\n",
       "3279  2023-07-29     LUFTHANSA       1\n",
       "\n",
       "[3280 rows x 3 columns]"
      ]
     },
     "execution_count": 17,
     "metadata": {},
     "output_type": "execute_result"
    }
   ],
   "source": [
    "grouped_data"
   ]
  },
  {
   "cell_type": "code",
   "execution_count": 18,
   "metadata": {},
   "outputs": [],
   "source": [
    "grouped_data['just_date'] = grouped_data['just_date'].astype('datetime64[ns]')\n",
    "all_['just_date'] = all_['just_date'].astype('datetime64[ns]')"
   ]
  },
  {
   "cell_type": "code",
   "execution_count": 19,
   "metadata": {},
   "outputs": [],
   "source": [
    "\n",
    "merged_data = pd.merge(all_.reset_index(), grouped_data, on=['just_date', 'COMP'], how='left')\n",
    "merged_data['length'].fillna(0, inplace=True)\n",
    "\n",
    "data4 = pd.DataFrame(merged_data[['COMP', \"length\", 'just_date']].groupby(['COMP', \"length\"]).count()).reset_index()\n"
   ]
  },
  {
   "cell_type": "markdown",
   "metadata": {},
   "source": [
    "## Here are some graphs"
   ]
  },
  {
   "cell_type": "markdown",
   "metadata": {},
   "source": [
    "* here is the graph that shows the dates of the first post about the company. Since the main source (Frankfurter Zeitung) has data only starting with 2019-02-22, we will use that date as starting date in our analysis"
   ]
  },
  {
   "cell_type": "code",
   "execution_count": 50,
   "metadata": {},
   "outputs": [],
   "source": [
    "line = pd.DataFrame({'just_date':['2019-02-22']*15, 'COMP': companies})\n",
    "line['just_date'] = line['just_date'].astype('datetime64[ns]')"
   ]
  },
  {
   "cell_type": "code",
   "execution_count": 77,
   "metadata": {},
   "outputs": [
    {
     "data": {
      "image/png": "[encoded data removed]",
      "text/plain": [
       "<Figure size 720x432 with 1 Axes>"
      ]
     },
     "metadata": {
      "needs_background": "light"
     },
     "output_type": "display_data"
    }
   ],
   "source": [
    "\n",
    "\n",
    "plt.figure(figsize=(10, 6))\n",
    "sns.set_palette('Set2')\n",
    "sns.lineplot(data = data3.groupby(['COMP'])['just_date'].min())\n",
    "sns.lineplot(x= \"COMP\", y = \"just_date\",data = line)\n",
    "plt.title('The first date a company was mentioned in our media sources')\n",
    "plt.xlabel('Company Name')\n",
    "plt.ylabel('First date')\n",
    "plt.xticks(rotation=45, ha='right')\n",
    "plt.tight_layout()\n",
    "plt.legend\n",
    "plt.show()"
   ]
  },
  {
   "cell_type": "markdown",
   "metadata": {},
   "source": [
    "* This graph shows how many text data is available by each company "
   ]
  },
  {
   "cell_type": "code",
   "execution_count": 72,
   "metadata": {},
   "outputs": [
    {
     "data": {
      "image/png": "[encoded data removed]",
      "text/plain": [
       "<Figure size 720x432 with 1 Axes>"
      ]
     },
     "metadata": {
      "needs_background": "light"
     },
     "output_type": "display_data"
    }
   ],
   "source": [
    "merged_data['length'] = pd.to_numeric(merged_data['length'], errors='coerce')\n",
    "total_posts_by_company = pd.DataFrame(merged_data.groupby('COMP')['length'].sum()).reset_index()\n",
    "sns.set_palette('Set2')\n",
    "plt.figure(figsize=(10, 6))\n",
    "sns.barplot(x='COMP', y='length', data=total_posts_by_company.sort_values(by = \"length\",ascending=False))\n",
    "plt.title('Total Number of Posts in the Media by Company')\n",
    "plt.xlabel('Company Name')\n",
    "plt.ylabel('Total Number of Posts')\n",
    "plt.xticks(rotation=45, ha='right')\n",
    "plt.tight_layout()\n",
    "plt.show()"
   ]
  },
  {
   "cell_type": "markdown",
   "metadata": {},
   "source": [
    "* This graph shows the percent of days out of all days when at least 1 post about the company is available"
   ]
  },
  {
   "cell_type": "code",
   "execution_count": 74,
   "metadata": {},
   "outputs": [
    {
     "data": {
      "image/png": "[encoded data removed]",
      "text/plain": [
       "<Figure size 720x432 with 1 Axes>"
      ]
     },
     "metadata": {
      "needs_background": "light"
     },
     "output_type": "display_data"
    }
   ],
   "source": [
    "merged_data['length'] = pd.to_numeric(merged_data['length'], errors='coerce')\n",
    "total_posts_by_company = pd.DataFrame(merged_data.groupby('COMP')['length'].mean()).reset_index()\n",
    "plt.figure(figsize=(10, 6))\n",
    "sns.set_palette('Set2')\n",
    "sns.barplot(x='COMP', y='length', data=total_posts_by_company.sort_values(by = \"length\",ascending=False))\n",
    "plt.title('Mean Number of Posts per day in the Media by Company')\n",
    "plt.xlabel('Company Name')\n",
    "plt.ylabel('Mean Number of Posts')\n",
    "plt.xticks(rotation=45, ha='right')\n",
    "plt.tight_layout()\n",
    "plt.show()"
   ]
  },
  {
   "cell_type": "markdown",
   "metadata": {},
   "source": [
    "* for the future we can add more data on german Zeitungen if the existing text data is not enough"
   ]
  },
  {
   "cell_type": "markdown",
   "metadata": {},
   "source": [
    "### Some graphs about the distribution of number of posts per day about each company"
   ]
  },
  {
   "cell_type": "markdown",
   "metadata": {},
   "source": [
    "* VOLKSWAGEN"
   ]
  },
  {
   "cell_type": "code",
   "execution_count": 71,
   "metadata": {},
   "outputs": [
    {
     "data": {
      "image/png": "[encoded data removed]",
      "text/plain": [
       "<Figure size 720x432 with 1 Axes>"
      ]
     },
     "metadata": {
      "needs_background": "light"
     },
     "output_type": "display_data"
    }
   ],
   "source": [
    "VOW3 = data4[data4['COMP'] == 'VOLKSWAGEN']\n",
    "plt.figure(figsize=(10, 6))\n",
    "sns.set_palette('Set2')\n",
    "sns.barplot(x='length', y='just_date', data=VOW3.sort_values(by = \"just_date\",ascending=False, ))\n",
    "plt.title('VOLKSWAGEN: Distribution of num of posts about the company per day')\n",
    "plt.xlabel('Number of posts per day')\n",
    "plt.ylabel('Count of each group')\n",
    "plt.xticks(rotation=45, ha='right')\n",
    "plt.tight_layout()\n",
    "plt.show()"
   ]
  },
  {
   "cell_type": "markdown",
   "metadata": {},
   "source": [
    "* LUFTHANSA"
   ]
  },
  {
   "cell_type": "code",
   "execution_count": 75,
   "metadata": {},
   "outputs": [
    {
     "data": {
      "image/png": "[encoded data removed]",
      "text/plain": [
       "<Figure size 720x432 with 1 Axes>"
      ]
     },
     "metadata": {
      "needs_background": "light"
     },
     "output_type": "display_data"
    }
   ],
   "source": [
    "LHA = data4[data4['COMP'] == 'LUFTHANSA']\n",
    "plt.figure(figsize=(10, 6))\n",
    "sns.barplot(x='length', y='just_date', data=LHA.sort_values(by = \"just_date\",ascending=False))\n",
    "sns.set_palette('Set2')\n",
    "plt.title('LUFTHANSA: Distribution of num of posts about the company per day')\n",
    "plt.xlabel('Number of posts per day')\n",
    "plt.ylabel('Count of each group')\n",
    "plt.xticks(rotation=45, ha='right')\n",
    "plt.tight_layout()\n",
    "plt.show()"
   ]
  },
  {
   "cell_type": "markdown",
   "metadata": {},
   "source": [
    "* Deutschebank"
   ]
  },
  {
   "cell_type": "code",
   "execution_count": 76,
   "metadata": {},
   "outputs": [
    {
     "data": {
      "image/png": "[encoded data removed]",
      "text/plain": [
       "<Figure size 720x432 with 1 Axes>"
      ]
     },
     "metadata": {
      "needs_background": "light"
     },
     "output_type": "display_data"
    }
   ],
   "source": [
    "DBK = data4[data4['COMP'] == 'DEUTSCHEBANK']\n",
    "plt.figure(figsize=(10, 6))\n",
    "sns.barplot(x='length', y='just_date', data=DBK.sort_values(by = \"just_date\",ascending=False))\n",
    "sns.set_palette('Set2')\n",
    "plt.title('DEUTSCHEBANK: Distribution of num of posts about the company per day')\n",
    "plt.xlabel('Number of posts per day')\n",
    "plt.ylabel('Count of each group')\n",
    "plt.xticks(rotation=45, ha='right')\n",
    "plt.tight_layout()\n",
    "plt.show()"
   ]
  }
 ],
 "metadata": {
  "kernelspec": {
   "display_name": "Python 3",
   "language": "python",
   "name": "python3"
  },
  "language_info": {
   "codemirror_mode": {
    "name": "ipython",
    "version": 3
   },
   "file_extension": ".py",
   "mimetype": "text/x-python",
   "name": "python",
   "nbconvert_exporter": "python",
   "pygments_lexer": "ipython3",
   "version": "3.8.5"
  }
 },
 "nbformat": 4,
 "nbformat_minor": 4
}
