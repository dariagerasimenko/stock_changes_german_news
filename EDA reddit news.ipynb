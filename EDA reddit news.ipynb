{
 "cells": [
  {
   "cell_type": "markdown",
   "metadata": {},
   "source": [
    "# EDA reddit news"
   ]
  },
  {
   "cell_type": "markdown",
   "metadata": {},
   "source": [
    "* here we have data stored from reddit: r/worldnews\n",
    "* period of 2008-06-08 -- 2016-07-01\n",
    "* data is in English"
   ]
  },
  {
   "cell_type": "code",
   "execution_count": 1,
   "metadata": {},
   "outputs": [],
   "source": [
    "import pandas as pd"
   ]
  },
  {
   "cell_type": "code",
   "execution_count": 2,
   "metadata": {},
   "outputs": [],
   "source": [
    "data = pd.read_csv('RedditNews.csv')"
   ]
  },
  {
   "cell_type": "code",
   "execution_count": 3,
   "metadata": {},
   "outputs": [
    {
     "data": {
      "text/html": [
       "<div>\n",
       "<style scoped>\n",
       "    .dataframe tbody tr th:only-of-type {\n",
       "        vertical-align: middle;\n",
       "    }\n",
       "\n",
       "    .dataframe tbody tr th {\n",
       "        vertical-align: top;\n",
       "    }\n",
       "\n",
       "    .dataframe thead th {\n",
       "        text-align: right;\n",
       "    }\n",
       "</style>\n",
       "<table border=\"1\" class=\"dataframe\">\n",
       "  <thead>\n",
       "    <tr style=\"text-align: right;\">\n",
       "      <th></th>\n",
       "      <th>Date</th>\n",
       "      <th>News</th>\n",
       "    </tr>\n",
       "  </thead>\n",
       "  <tbody>\n",
       "    <tr>\n",
       "      <th>0</th>\n",
       "      <td>2016-07-01</td>\n",
       "      <td>A 117-year-old woman in Mexico City finally re...</td>\n",
       "    </tr>\n",
       "    <tr>\n",
       "      <th>1</th>\n",
       "      <td>2016-07-01</td>\n",
       "      <td>IMF chief backs Athens as permanent Olympic host</td>\n",
       "    </tr>\n",
       "    <tr>\n",
       "      <th>2</th>\n",
       "      <td>2016-07-01</td>\n",
       "      <td>The president of France says if Brexit won, so...</td>\n",
       "    </tr>\n",
       "    <tr>\n",
       "      <th>3</th>\n",
       "      <td>2016-07-01</td>\n",
       "      <td>British Man Who Must Give Police 24 Hours' Not...</td>\n",
       "    </tr>\n",
       "    <tr>\n",
       "      <th>4</th>\n",
       "      <td>2016-07-01</td>\n",
       "      <td>100+ Nobel laureates urge Greenpeace to stop o...</td>\n",
       "    </tr>\n",
       "    <tr>\n",
       "      <th>...</th>\n",
       "      <td>...</td>\n",
       "      <td>...</td>\n",
       "    </tr>\n",
       "    <tr>\n",
       "      <th>73603</th>\n",
       "      <td>2008-06-08</td>\n",
       "      <td>b'Man goes berzerk in Akihabara and stabs ever...</td>\n",
       "    </tr>\n",
       "    <tr>\n",
       "      <th>73604</th>\n",
       "      <td>2008-06-08</td>\n",
       "      <td>b'Threat of world AIDS pandemic among heterose...</td>\n",
       "    </tr>\n",
       "    <tr>\n",
       "      <th>73605</th>\n",
       "      <td>2008-06-08</td>\n",
       "      <td>b'Angst in Ankara: Turkey Steers into a Danger...</td>\n",
       "    </tr>\n",
       "    <tr>\n",
       "      <th>73606</th>\n",
       "      <td>2008-06-08</td>\n",
       "      <td>b\"UK: Identity cards 'could be used to spy on ...</td>\n",
       "    </tr>\n",
       "    <tr>\n",
       "      <th>73607</th>\n",
       "      <td>2008-06-08</td>\n",
       "      <td>b'Marriage, they said, was reduced to the stat...</td>\n",
       "    </tr>\n",
       "  </tbody>\n",
       "</table>\n",
       "<p>73608 rows × 2 columns</p>\n",
       "</div>"
      ],
      "text/plain": [
       "             Date                                               News\n",
       "0      2016-07-01  A 117-year-old woman in Mexico City finally re...\n",
       "1      2016-07-01   IMF chief backs Athens as permanent Olympic host\n",
       "2      2016-07-01  The president of France says if Brexit won, so...\n",
       "3      2016-07-01  British Man Who Must Give Police 24 Hours' Not...\n",
       "4      2016-07-01  100+ Nobel laureates urge Greenpeace to stop o...\n",
       "...           ...                                                ...\n",
       "73603  2008-06-08  b'Man goes berzerk in Akihabara and stabs ever...\n",
       "73604  2008-06-08  b'Threat of world AIDS pandemic among heterose...\n",
       "73605  2008-06-08  b'Angst in Ankara: Turkey Steers into a Danger...\n",
       "73606  2008-06-08  b\"UK: Identity cards 'could be used to spy on ...\n",
       "73607  2008-06-08  b'Marriage, they said, was reduced to the stat...\n",
       "\n",
       "[73608 rows x 2 columns]"
      ]
     },
     "execution_count": 3,
     "metadata": {},
     "output_type": "execute_result"
    }
   ],
   "source": [
    "data"
   ]
  },
  {
   "cell_type": "markdown",
   "metadata": {},
   "source": [
    "# Manual check"
   ]
  },
  {
   "cell_type": "code",
   "execution_count": 8,
   "metadata": {},
   "outputs": [],
   "source": [
    "def comp(x):\n",
    "    if 'allianz' in x:\n",
    "        y = 'Allianz'\n",
    "    elif 'basf' in x:\n",
    "        y = 'BASF'\n",
    "    elif 'bmv' in x :\n",
    "        y = 'BMW'\n",
    "    elif 'delivery hero' in x:\n",
    "        y = 'DELIVERY HERO'\n",
    "    elif 'deutschebank' in x or 'deutsche bank' in x:\n",
    "        y = 'DEUTSCHEBANK'\n",
    "    elif 'deutsche telekom' in x or 'deutschetelekom' in x:\n",
    "        y = 'Deutsche Telekom'\n",
    "    elif 'hellofresh' in x or 'hfg' in x:\n",
    "        y = 'HELLOFRESH'\n",
    "    elif 'henkel' in x :\n",
    "        y = 'HENKEL'\n",
    "    elif 'hugo' in x :\n",
    "        y = 'HUGO BOSS'\n",
    "    elif 'lufthansa' in x :\n",
    "        y = 'LUFTHANSA'\n",
    "    elif ' sap ' in x:\n",
    "        y = 'SAP'\n",
    "    elif 'siemens' in x :\n",
    "        y = 'SIEMENS'\n",
    "    elif 'unilever' in x :\n",
    "        y = 'UNILEVER'\n",
    "    elif 'volkswagen' in x or 'vow3' in x:\n",
    "        y = 'VOLKSWAGEN'\n",
    "    elif 'zalando' in x :\n",
    "        y = 'ZAL'\n",
    "    else:\n",
    "        y = \"None\"\n",
    "    return y"
   ]
  },
  {
   "cell_type": "code",
   "execution_count": 9,
   "metadata": {},
   "outputs": [],
   "source": [
    "data2 = data\n",
    "data2['News'] = data.News.apply(lambda x: str(x).lower())\n",
    "data2['COMP'] = data2.News.apply(lambda x: comp(str(x)))"
   ]
  },
  {
   "cell_type": "code",
   "execution_count": 10,
   "metadata": {},
   "outputs": [
    {
     "data": {
      "text/html": [
       "<div>\n",
       "<style scoped>\n",
       "    .dataframe tbody tr th:only-of-type {\n",
       "        vertical-align: middle;\n",
       "    }\n",
       "\n",
       "    .dataframe tbody tr th {\n",
       "        vertical-align: top;\n",
       "    }\n",
       "\n",
       "    .dataframe thead th {\n",
       "        text-align: right;\n",
       "    }\n",
       "</style>\n",
       "<table border=\"1\" class=\"dataframe\">\n",
       "  <thead>\n",
       "    <tr style=\"text-align: right;\">\n",
       "      <th></th>\n",
       "      <th>Date</th>\n",
       "      <th>News</th>\n",
       "      <th>COMP</th>\n",
       "    </tr>\n",
       "  </thead>\n",
       "  <tbody>\n",
       "    <tr>\n",
       "      <th>0</th>\n",
       "      <td>2016-07-01</td>\n",
       "      <td>a 117-year-old woman in mexico city finally re...</td>\n",
       "      <td>None</td>\n",
       "    </tr>\n",
       "    <tr>\n",
       "      <th>1</th>\n",
       "      <td>2016-07-01</td>\n",
       "      <td>imf chief backs athens as permanent olympic host</td>\n",
       "      <td>None</td>\n",
       "    </tr>\n",
       "    <tr>\n",
       "      <th>2</th>\n",
       "      <td>2016-07-01</td>\n",
       "      <td>the president of france says if brexit won, so...</td>\n",
       "      <td>None</td>\n",
       "    </tr>\n",
       "    <tr>\n",
       "      <th>3</th>\n",
       "      <td>2016-07-01</td>\n",
       "      <td>british man who must give police 24 hours' not...</td>\n",
       "      <td>None</td>\n",
       "    </tr>\n",
       "    <tr>\n",
       "      <th>4</th>\n",
       "      <td>2016-07-01</td>\n",
       "      <td>100+ nobel laureates urge greenpeace to stop o...</td>\n",
       "      <td>None</td>\n",
       "    </tr>\n",
       "    <tr>\n",
       "      <th>...</th>\n",
       "      <td>...</td>\n",
       "      <td>...</td>\n",
       "      <td>...</td>\n",
       "    </tr>\n",
       "    <tr>\n",
       "      <th>73603</th>\n",
       "      <td>2008-06-08</td>\n",
       "      <td>b'man goes berzerk in akihabara and stabs ever...</td>\n",
       "      <td>None</td>\n",
       "    </tr>\n",
       "    <tr>\n",
       "      <th>73604</th>\n",
       "      <td>2008-06-08</td>\n",
       "      <td>b'threat of world aids pandemic among heterose...</td>\n",
       "      <td>None</td>\n",
       "    </tr>\n",
       "    <tr>\n",
       "      <th>73605</th>\n",
       "      <td>2008-06-08</td>\n",
       "      <td>b'angst in ankara: turkey steers into a danger...</td>\n",
       "      <td>None</td>\n",
       "    </tr>\n",
       "    <tr>\n",
       "      <th>73606</th>\n",
       "      <td>2008-06-08</td>\n",
       "      <td>b\"uk: identity cards 'could be used to spy on ...</td>\n",
       "      <td>None</td>\n",
       "    </tr>\n",
       "    <tr>\n",
       "      <th>73607</th>\n",
       "      <td>2008-06-08</td>\n",
       "      <td>b'marriage, they said, was reduced to the stat...</td>\n",
       "      <td>None</td>\n",
       "    </tr>\n",
       "  </tbody>\n",
       "</table>\n",
       "<p>73608 rows × 3 columns</p>\n",
       "</div>"
      ],
      "text/plain": [
       "             Date                                               News  COMP\n",
       "0      2016-07-01  a 117-year-old woman in mexico city finally re...  None\n",
       "1      2016-07-01   imf chief backs athens as permanent olympic host  None\n",
       "2      2016-07-01  the president of france says if brexit won, so...  None\n",
       "3      2016-07-01  british man who must give police 24 hours' not...  None\n",
       "4      2016-07-01  100+ nobel laureates urge greenpeace to stop o...  None\n",
       "...           ...                                                ...   ...\n",
       "73603  2008-06-08  b'man goes berzerk in akihabara and stabs ever...  None\n",
       "73604  2008-06-08  b'threat of world aids pandemic among heterose...  None\n",
       "73605  2008-06-08  b'angst in ankara: turkey steers into a danger...  None\n",
       "73606  2008-06-08  b\"uk: identity cards 'could be used to spy on ...  None\n",
       "73607  2008-06-08  b'marriage, they said, was reduced to the stat...  None\n",
       "\n",
       "[73608 rows x 3 columns]"
      ]
     },
     "execution_count": 10,
     "metadata": {},
     "output_type": "execute_result"
    }
   ],
   "source": [
    "data2"
   ]
  },
  {
   "cell_type": "code",
   "execution_count": 11,
   "metadata": {},
   "outputs": [
    {
     "data": {
      "text/plain": [
       "None                73438\n",
       "HUGO BOSS              91\n",
       "VOLKSWAGEN             32\n",
       "DEUTSCHEBANK           19\n",
       "SIEMENS                 9\n",
       "LUFTHANSA               9\n",
       "UNILEVER                5\n",
       "BASF                    2\n",
       "SAP                     2\n",
       "Deutsche Telekom        1\n",
       "Name: COMP, dtype: int64"
      ]
     },
     "execution_count": 11,
     "metadata": {},
     "output_type": "execute_result"
    }
   ],
   "source": [
    "data2['COMP'].value_counts()"
   ]
  },
  {
   "cell_type": "markdown",
   "metadata": {},
   "source": [
    "## Conclusion: "
   ]
  },
  {
   "cell_type": "markdown",
   "metadata": {},
   "source": [
    "The data is too limited so we should not use it. Telegram data from Deutsche Zeitungen is more preferable"
   ]
  },
  {
   "cell_type": "code",
   "execution_count": null,
   "metadata": {},
   "outputs": [],
   "source": []
  }
 ],
 "metadata": {
  "kernelspec": {
   "display_name": "Python 3",
   "language": "python",
   "name": "python3"
  },
  "language_info": {
   "codemirror_mode": {
    "name": "ipython",
    "version": 3
   },
   "file_extension": ".py",
   "mimetype": "text/x-python",
   "name": "python",
   "nbconvert_exporter": "python",
   "pygments_lexer": "ipython3",
   "version": "3.8.5"
  }
 },
 "nbformat": 4,
 "nbformat_minor": 4
}
