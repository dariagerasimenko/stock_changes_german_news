{
 "cells": [
  {
   "cell_type": "code",
   "execution_count": 1,
   "metadata": {},
   "outputs": [],
   "source": [
    "import pandas as pd\n",
    "\n",
    "xls = pd.ExcelFile('companies_new.xlsx')\n",
    "sheets = xls.sheet_names\n",
    "sheet_to_df_map = {}\n",
    "for sheet in sheets:\n",
    "    sheet_to_df_map[sheet] = xls.parse(sheet)\n",
    "    \n",
    "\n",
    "df = pd.concat(sheet_to_df_map.values(), ignore_index=True)"
   ]
  },
  {
   "cell_type": "code",
   "execution_count": 2,
   "metadata": {},
   "outputs": [],
   "source": [
    "df['Date'] = df['Date'].dt.strftime('%Y-%m-%d')"
   ]
  },
  {
   "cell_type": "code",
   "execution_count": 3,
   "metadata": {},
   "outputs": [],
   "source": [
    "df['Date'] = df['Date'].astype('datetime64[ns]')"
   ]
  },
  {
   "cell_type": "code",
   "execution_count": 4,
   "metadata": {},
   "outputs": [
    {
     "data": {
      "text/plain": [
       "UNILEVER            1135\n",
       "DEUTSCHEBANK        1127\n",
       "HENKEL              1127\n",
       "VOLKSWAGEN          1127\n",
       "BMW                 1127\n",
       "DELIVERY HERO       1127\n",
       "ZALANDO             1127\n",
       "LUFTHANSA           1127\n",
       "HELLOFRESH          1117\n",
       "DEUTSCHE TELEKOM    1116\n",
       "ALLIANZ             1116\n",
       "HUGO BOSS           1116\n",
       "SAP                 1116\n",
       "SIEMENS              992\n",
       "BASF                 886\n",
       "Name: COMP, dtype: int64"
      ]
     },
     "execution_count": 4,
     "metadata": {},
     "output_type": "execute_result"
    }
   ],
   "source": [
    "df['COMP'].value_counts()"
   ]
  },
  {
   "cell_type": "code",
   "execution_count": 5,
   "metadata": {},
   "outputs": [],
   "source": [
    "news = pd.read_csv('news_data.csv')"
   ]
  },
  {
   "cell_type": "code",
   "execution_count": 6,
   "metadata": {},
   "outputs": [],
   "source": [
    "news = news[['just_date', 'message', 'COMP']].rename({'just_date': 'Date'}, axis = 'columns')"
   ]
  },
  {
   "cell_type": "code",
   "execution_count": 7,
   "metadata": {},
   "outputs": [],
   "source": [
    "news['Date'] = news['Date'].astype('datetime64[ns]')"
   ]
  },
  {
   "cell_type": "code",
   "execution_count": 8,
   "metadata": {},
   "outputs": [],
   "source": [
    "def func(x):\n",
    "    res = x.upper() \n",
    "    if res == 'ZAL':\n",
    "        return 'ZALANDO'\n",
    "    else:\n",
    "        return res"
   ]
  },
  {
   "cell_type": "code",
   "execution_count": 9,
   "metadata": {},
   "outputs": [],
   "source": [
    "news['COMP'] = news['COMP'].apply(lambda x: func(x))"
   ]
  },
  {
   "cell_type": "code",
   "execution_count": 10,
   "metadata": {},
   "outputs": [],
   "source": [
    "result = pd.merge(df, news, how=\"left\", on=[\"COMP\", \"Date\"])"
   ]
  },
  {
   "cell_type": "code",
   "execution_count": 11,
   "metadata": {},
   "outputs": [
    {
     "data": {
      "text/plain": [
       "3661"
      ]
     },
     "execution_count": 11,
     "metadata": {},
     "output_type": "execute_result"
    }
   ],
   "source": [
    "result.message.notna().sum()"
   ]
  },
  {
   "cell_type": "code",
   "execution_count": 14,
   "metadata": {},
   "outputs": [
    {
     "data": {
      "text/html": [
       "<div>\n",
       "<style scoped>\n",
       "    .dataframe tbody tr th:only-of-type {\n",
       "        vertical-align: middle;\n",
       "    }\n",
       "\n",
       "    .dataframe tbody tr th {\n",
       "        vertical-align: top;\n",
       "    }\n",
       "\n",
       "    .dataframe thead th {\n",
       "        text-align: right;\n",
       "    }\n",
       "</style>\n",
       "<table border=\"1\" class=\"dataframe\">\n",
       "  <thead>\n",
       "    <tr style=\"text-align: right;\">\n",
       "      <th></th>\n",
       "      <th>COMP</th>\n",
       "      <th>Date</th>\n",
       "      <th>Open</th>\n",
       "      <th>High</th>\n",
       "      <th>Low</th>\n",
       "      <th>Close</th>\n",
       "      <th>Volume</th>\n",
       "      <th>message</th>\n",
       "    </tr>\n",
       "  </thead>\n",
       "  <tbody>\n",
       "    <tr>\n",
       "      <th>0</th>\n",
       "      <td>ALLIANZ</td>\n",
       "      <td>2019-02-22</td>\n",
       "      <td>79.96</td>\n",
       "      <td>81.35</td>\n",
       "      <td>79.80</td>\n",
       "      <td>81.23</td>\n",
       "      <td>423912</td>\n",
       "      <td>NaN</td>\n",
       "    </tr>\n",
       "    <tr>\n",
       "      <th>1</th>\n",
       "      <td>ALLIANZ</td>\n",
       "      <td>2019-02-25</td>\n",
       "      <td>81.76</td>\n",
       "      <td>82.67</td>\n",
       "      <td>81.72</td>\n",
       "      <td>82.41</td>\n",
       "      <td>540216</td>\n",
       "      <td>NaN</td>\n",
       "    </tr>\n",
       "    <tr>\n",
       "      <th>2</th>\n",
       "      <td>ALLIANZ</td>\n",
       "      <td>2019-02-26</td>\n",
       "      <td>82.25</td>\n",
       "      <td>83.16</td>\n",
       "      <td>82.16</td>\n",
       "      <td>82.68</td>\n",
       "      <td>327024</td>\n",
       "      <td>kurz vor dem gipfeltreffen: alle blicke sind a...</td>\n",
       "    </tr>\n",
       "    <tr>\n",
       "      <th>3</th>\n",
       "      <td>ALLIANZ</td>\n",
       "      <td>2019-02-27</td>\n",
       "      <td>82.43</td>\n",
       "      <td>83.53</td>\n",
       "      <td>82.07</td>\n",
       "      <td>83.27</td>\n",
       "      <td>366054</td>\n",
       "      <td>NaN</td>\n",
       "    </tr>\n",
       "    <tr>\n",
       "      <th>4</th>\n",
       "      <td>ALLIANZ</td>\n",
       "      <td>2019-02-28</td>\n",
       "      <td>82.05</td>\n",
       "      <td>82.06</td>\n",
       "      <td>81.07</td>\n",
       "      <td>81.81</td>\n",
       "      <td>519239</td>\n",
       "      <td>kommentar: die allianz der erzrivalen daimler ...</td>\n",
       "    </tr>\n",
       "    <tr>\n",
       "      <th>...</th>\n",
       "      <td>...</td>\n",
       "      <td>...</td>\n",
       "      <td>...</td>\n",
       "      <td>...</td>\n",
       "      <td>...</td>\n",
       "      <td>...</td>\n",
       "      <td>...</td>\n",
       "      <td>...</td>\n",
       "    </tr>\n",
       "    <tr>\n",
       "      <th>17655</th>\n",
       "      <td>ZALANDO</td>\n",
       "      <td>2023-07-24</td>\n",
       "      <td>30.75</td>\n",
       "      <td>31.25</td>\n",
       "      <td>30.28</td>\n",
       "      <td>30.82</td>\n",
       "      <td>1002680</td>\n",
       "      <td>NaN</td>\n",
       "    </tr>\n",
       "    <tr>\n",
       "      <th>17656</th>\n",
       "      <td>ZALANDO</td>\n",
       "      <td>2023-07-25</td>\n",
       "      <td>30.75</td>\n",
       "      <td>31.58</td>\n",
       "      <td>30.75</td>\n",
       "      <td>31.35</td>\n",
       "      <td>1146526</td>\n",
       "      <td>NaN</td>\n",
       "    </tr>\n",
       "    <tr>\n",
       "      <th>17657</th>\n",
       "      <td>ZALANDO</td>\n",
       "      <td>2023-07-26</td>\n",
       "      <td>31.05</td>\n",
       "      <td>31.85</td>\n",
       "      <td>30.45</td>\n",
       "      <td>30.72</td>\n",
       "      <td>825826</td>\n",
       "      <td>NaN</td>\n",
       "    </tr>\n",
       "    <tr>\n",
       "      <th>17658</th>\n",
       "      <td>ZALANDO</td>\n",
       "      <td>2023-07-27</td>\n",
       "      <td>30.45</td>\n",
       "      <td>32.17</td>\n",
       "      <td>30.45</td>\n",
       "      <td>31.35</td>\n",
       "      <td>980111</td>\n",
       "      <td>NaN</td>\n",
       "    </tr>\n",
       "    <tr>\n",
       "      <th>17659</th>\n",
       "      <td>ZALANDO</td>\n",
       "      <td>2023-07-28</td>\n",
       "      <td>31.23</td>\n",
       "      <td>31.31</td>\n",
       "      <td>30.35</td>\n",
       "      <td>31.29</td>\n",
       "      <td>799542</td>\n",
       "      <td>NaN</td>\n",
       "    </tr>\n",
       "  </tbody>\n",
       "</table>\n",
       "<p>17660 rows × 8 columns</p>\n",
       "</div>"
      ],
      "text/plain": [
       "          COMP       Date   Open   High    Low  Close   Volume  \\\n",
       "0      ALLIANZ 2019-02-22  79.96  81.35  79.80  81.23   423912   \n",
       "1      ALLIANZ 2019-02-25  81.76  82.67  81.72  82.41   540216   \n",
       "2      ALLIANZ 2019-02-26  82.25  83.16  82.16  82.68   327024   \n",
       "3      ALLIANZ 2019-02-27  82.43  83.53  82.07  83.27   366054   \n",
       "4      ALLIANZ 2019-02-28  82.05  82.06  81.07  81.81   519239   \n",
       "...        ...        ...    ...    ...    ...    ...      ...   \n",
       "17655  ZALANDO 2023-07-24  30.75  31.25  30.28  30.82  1002680   \n",
       "17656  ZALANDO 2023-07-25  30.75  31.58  30.75  31.35  1146526   \n",
       "17657  ZALANDO 2023-07-26  31.05  31.85  30.45  30.72   825826   \n",
       "17658  ZALANDO 2023-07-27  30.45  32.17  30.45  31.35   980111   \n",
       "17659  ZALANDO 2023-07-28  31.23  31.31  30.35  31.29   799542   \n",
       "\n",
       "                                                 message  \n",
       "0                                                    NaN  \n",
       "1                                                    NaN  \n",
       "2      kurz vor dem gipfeltreffen: alle blicke sind a...  \n",
       "3                                                    NaN  \n",
       "4      kommentar: die allianz der erzrivalen daimler ...  \n",
       "...                                                  ...  \n",
       "17655                                                NaN  \n",
       "17656                                                NaN  \n",
       "17657                                                NaN  \n",
       "17658                                                NaN  \n",
       "17659                                                NaN  \n",
       "\n",
       "[17660 rows x 8 columns]"
      ]
     },
     "execution_count": 14,
     "metadata": {},
     "output_type": "execute_result"
    }
   ],
   "source": [
    "result"
   ]
  },
  {
   "cell_type": "code",
   "execution_count": 13,
   "metadata": {},
   "outputs": [],
   "source": [
    "result.to_csv('final.csv')"
   ]
  },
  {
   "cell_type": "code",
   "execution_count": 15,
   "metadata": {},
   "outputs": [
    {
     "data": {
      "text/plain": [
       "VOLKSWAGEN          1542\n",
       "LUFTHANSA           1453\n",
       "DEUTSCHEBANK        1357\n",
       "ALLIANZ             1169\n",
       "BMW                 1147\n",
       "UNILEVER            1139\n",
       "HENKEL              1133\n",
       "ZALANDO             1133\n",
       "DEUTSCHE TELEKOM    1131\n",
       "DELIVERY HERO       1129\n",
       "SAP                 1122\n",
       "HELLOFRESH          1118\n",
       "HUGO BOSS           1116\n",
       "SIEMENS             1071\n",
       "BASF                 900\n",
       "Name: COMP, dtype: int64"
      ]
     },
     "execution_count": 15,
     "metadata": {},
     "output_type": "execute_result"
    }
   ],
   "source": [
    "result['COMP'].value_counts()"
   ]
  },
  {
   "cell_type": "code",
   "execution_count": null,
   "metadata": {},
   "outputs": [],
   "source": []
  }
 ],
 "metadata": {
  "kernelspec": {
   "display_name": "Python 3",
   "language": "python",
   "name": "python3"
  },
  "language_info": {
   "codemirror_mode": {
    "name": "ipython",
    "version": 3
   },
   "file_extension": ".py",
   "mimetype": "text/x-python",
   "name": "python",
   "nbconvert_exporter": "python",
   "pygments_lexer": "ipython3",
   "version": "3.8.5"
  }
 },
 "nbformat": 4,
 "nbformat_minor": 4
}
