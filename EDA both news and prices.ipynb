{
 "cells": [
  {
   "cell_type": "code",
   "execution_count": 1,
   "metadata": {},
   "outputs": [],
   "source": [
    "import pandas as pd\n",
    "\n",
    "xls = pd.ExcelFile('companies_new.xlsx')\n",
    "sheets = xls.sheet_names\n",
    "sheet_to_df_map = {}\n",
    "for sheet in sheets:\n",
    "    sheet_to_df_map[sheet] = xls.parse(sheet)\n",
    "\n",
    "df = pd.concat(sheet_to_df_map.values(), ignore_index=True)"
   ]
  },
  {
   "cell_type": "code",
   "execution_count": 2,
   "metadata": {},
   "outputs": [],
   "source": [
    "df['Date'] = df['Date'].dt.strftime('%Y-%m-%d')"
   ]
  },
  {
   "cell_type": "code",
   "execution_count": 3,
   "metadata": {},
   "outputs": [],
   "source": [
    "df['Date'] = df['Date'].astype('datetime64[ns]')"
   ]
  },
  {
   "cell_type": "code",
   "execution_count": 4,
   "metadata": {},
   "outputs": [
    {
     "data": {
      "text/plain": [
       "UNILEVER            1135\n",
       "BMW                 1127\n",
       "LUFTHANSA           1127\n",
       "ZALANDO             1127\n",
       "DELIVERY HERO       1127\n",
       "DEUTSCHEBANK        1127\n",
       "VOLKSWAGEN          1127\n",
       "HENKEL              1127\n",
       "HELLOFRESH          1117\n",
       "SAP                 1116\n",
       "ALLIANZ             1116\n",
       "HUGO BOSS           1116\n",
       "DEUTSCHE TELEKOM    1116\n",
       "SIEMENS              992\n",
       "BASF                 886\n",
       "Name: COMP, dtype: int64"
      ]
     },
     "execution_count": 4,
     "metadata": {},
     "output_type": "execute_result"
    }
   ],
   "source": [
    "df['COMP'].value_counts()"
   ]
  },
  {
   "cell_type": "code",
   "execution_count": 5,
   "metadata": {},
   "outputs": [],
   "source": [
    "news = pd.read_csv('news_data.csv')"
   ]
  },
  {
   "cell_type": "code",
   "execution_count": 6,
   "metadata": {},
   "outputs": [],
   "source": [
    "news = news[['just_date', 'message', 'COMP']].rename({'just_date': 'Date'}, axis = 'columns')"
   ]
  },
  {
   "cell_type": "code",
   "execution_count": 7,
   "metadata": {},
   "outputs": [],
   "source": [
    "news['Date'] = news['Date'].astype('datetime64[ns]')"
   ]
  },
  {
   "cell_type": "code",
   "execution_count": 8,
   "metadata": {},
   "outputs": [],
   "source": [
    "def func(x):\n",
    "    res = x.upper() \n",
    "    if res == 'ZAL':\n",
    "        return 'ZALANDO'\n",
    "    else:\n",
    "        return res"
   ]
  },
  {
   "cell_type": "code",
   "execution_count": 9,
   "metadata": {},
   "outputs": [],
   "source": [
    "news['COMP'] = news['COMP'].apply(lambda x: func(x))"
   ]
  },
  {
   "cell_type": "code",
   "execution_count": 10,
   "metadata": {},
   "outputs": [],
   "source": [
    "result = pd.merge(df, news, how=\"left\", on=[\"COMP\", \"Date\"])"
   ]
  },
  {
   "cell_type": "code",
   "execution_count": 11,
   "metadata": {},
   "outputs": [
    {
     "data": {
      "text/plain": [
       "3661"
      ]
     },
     "execution_count": 11,
     "metadata": {},
     "output_type": "execute_result"
    }
   ],
   "source": [
    "result.message.notna().sum()"
   ]
  },
  {
   "cell_type": "code",
   "execution_count": 12,
   "metadata": {},
   "outputs": [
    {
     "data": {
      "text/html": [
       "<div>\n",
       "<style scoped>\n",
       "    .dataframe tbody tr th:only-of-type {\n",
       "        vertical-align: middle;\n",
       "    }\n",
       "\n",
       "    .dataframe tbody tr th {\n",
       "        vertical-align: top;\n",
       "    }\n",
       "\n",
       "    .dataframe thead th {\n",
       "        text-align: right;\n",
       "    }\n",
       "</style>\n",
       "<table border=\"1\" class=\"dataframe\">\n",
       "  <thead>\n",
       "    <tr style=\"text-align: right;\">\n",
       "      <th></th>\n",
       "      <th>COMP</th>\n",
       "      <th>Date</th>\n",
       "      <th>Open</th>\n",
       "      <th>High</th>\n",
       "      <th>Low</th>\n",
       "      <th>Close</th>\n",
       "      <th>Volume</th>\n",
       "      <th>message</th>\n",
       "    </tr>\n",
       "  </thead>\n",
       "  <tbody>\n",
       "    <tr>\n",
       "      <th>0</th>\n",
       "      <td>ALLIANZ</td>\n",
       "      <td>2019-02-22</td>\n",
       "      <td>79.96</td>\n",
       "      <td>81.35</td>\n",
       "      <td>79.80</td>\n",
       "      <td>81.23</td>\n",
       "      <td>423912</td>\n",
       "      <td>NaN</td>\n",
       "    </tr>\n",
       "    <tr>\n",
       "      <th>1</th>\n",
       "      <td>ALLIANZ</td>\n",
       "      <td>2019-02-25</td>\n",
       "      <td>81.76</td>\n",
       "      <td>82.67</td>\n",
       "      <td>81.72</td>\n",
       "      <td>82.41</td>\n",
       "      <td>540216</td>\n",
       "      <td>NaN</td>\n",
       "    </tr>\n",
       "    <tr>\n",
       "      <th>2</th>\n",
       "      <td>ALLIANZ</td>\n",
       "      <td>2019-02-26</td>\n",
       "      <td>82.25</td>\n",
       "      <td>83.16</td>\n",
       "      <td>82.16</td>\n",
       "      <td>82.68</td>\n",
       "      <td>327024</td>\n",
       "      <td>kurz vor dem gipfeltreffen: alle blicke sind a...</td>\n",
       "    </tr>\n",
       "    <tr>\n",
       "      <th>3</th>\n",
       "      <td>ALLIANZ</td>\n",
       "      <td>2019-02-27</td>\n",
       "      <td>82.43</td>\n",
       "      <td>83.53</td>\n",
       "      <td>82.07</td>\n",
       "      <td>83.27</td>\n",
       "      <td>366054</td>\n",
       "      <td>NaN</td>\n",
       "    </tr>\n",
       "    <tr>\n",
       "      <th>4</th>\n",
       "      <td>ALLIANZ</td>\n",
       "      <td>2019-02-28</td>\n",
       "      <td>82.05</td>\n",
       "      <td>82.06</td>\n",
       "      <td>81.07</td>\n",
       "      <td>81.81</td>\n",
       "      <td>519239</td>\n",
       "      <td>kommentar: die allianz der erzrivalen daimler ...</td>\n",
       "    </tr>\n",
       "    <tr>\n",
       "      <th>...</th>\n",
       "      <td>...</td>\n",
       "      <td>...</td>\n",
       "      <td>...</td>\n",
       "      <td>...</td>\n",
       "      <td>...</td>\n",
       "      <td>...</td>\n",
       "      <td>...</td>\n",
       "      <td>...</td>\n",
       "    </tr>\n",
       "    <tr>\n",
       "      <th>17655</th>\n",
       "      <td>ZALANDO</td>\n",
       "      <td>2023-07-24</td>\n",
       "      <td>30.75</td>\n",
       "      <td>31.25</td>\n",
       "      <td>30.28</td>\n",
       "      <td>30.82</td>\n",
       "      <td>1002680</td>\n",
       "      <td>NaN</td>\n",
       "    </tr>\n",
       "    <tr>\n",
       "      <th>17656</th>\n",
       "      <td>ZALANDO</td>\n",
       "      <td>2023-07-25</td>\n",
       "      <td>30.75</td>\n",
       "      <td>31.58</td>\n",
       "      <td>30.75</td>\n",
       "      <td>31.35</td>\n",
       "      <td>1146526</td>\n",
       "      <td>NaN</td>\n",
       "    </tr>\n",
       "    <tr>\n",
       "      <th>17657</th>\n",
       "      <td>ZALANDO</td>\n",
       "      <td>2023-07-26</td>\n",
       "      <td>31.05</td>\n",
       "      <td>31.85</td>\n",
       "      <td>30.45</td>\n",
       "      <td>30.72</td>\n",
       "      <td>825826</td>\n",
       "      <td>NaN</td>\n",
       "    </tr>\n",
       "    <tr>\n",
       "      <th>17658</th>\n",
       "      <td>ZALANDO</td>\n",
       "      <td>2023-07-27</td>\n",
       "      <td>30.45</td>\n",
       "      <td>32.17</td>\n",
       "      <td>30.45</td>\n",
       "      <td>31.35</td>\n",
       "      <td>980111</td>\n",
       "      <td>NaN</td>\n",
       "    </tr>\n",
       "    <tr>\n",
       "      <th>17659</th>\n",
       "      <td>ZALANDO</td>\n",
       "      <td>2023-07-28</td>\n",
       "      <td>31.23</td>\n",
       "      <td>31.31</td>\n",
       "      <td>30.35</td>\n",
       "      <td>31.29</td>\n",
       "      <td>799542</td>\n",
       "      <td>NaN</td>\n",
       "    </tr>\n",
       "  </tbody>\n",
       "</table>\n",
       "<p>17660 rows × 8 columns</p>\n",
       "</div>"
      ],
      "text/plain": [
       "          COMP       Date   Open   High    Low  Close   Volume  \\\n",
       "0      ALLIANZ 2019-02-22  79.96  81.35  79.80  81.23   423912   \n",
       "1      ALLIANZ 2019-02-25  81.76  82.67  81.72  82.41   540216   \n",
       "2      ALLIANZ 2019-02-26  82.25  83.16  82.16  82.68   327024   \n",
       "3      ALLIANZ 2019-02-27  82.43  83.53  82.07  83.27   366054   \n",
       "4      ALLIANZ 2019-02-28  82.05  82.06  81.07  81.81   519239   \n",
       "...        ...        ...    ...    ...    ...    ...      ...   \n",
       "17655  ZALANDO 2023-07-24  30.75  31.25  30.28  30.82  1002680   \n",
       "17656  ZALANDO 2023-07-25  30.75  31.58  30.75  31.35  1146526   \n",
       "17657  ZALANDO 2023-07-26  31.05  31.85  30.45  30.72   825826   \n",
       "17658  ZALANDO 2023-07-27  30.45  32.17  30.45  31.35   980111   \n",
       "17659  ZALANDO 2023-07-28  31.23  31.31  30.35  31.29   799542   \n",
       "\n",
       "                                                 message  \n",
       "0                                                    NaN  \n",
       "1                                                    NaN  \n",
       "2      kurz vor dem gipfeltreffen: alle blicke sind a...  \n",
       "3                                                    NaN  \n",
       "4      kommentar: die allianz der erzrivalen daimler ...  \n",
       "...                                                  ...  \n",
       "17655                                                NaN  \n",
       "17656                                                NaN  \n",
       "17657                                                NaN  \n",
       "17658                                                NaN  \n",
       "17659                                                NaN  \n",
       "\n",
       "[17660 rows x 8 columns]"
      ]
     },
     "execution_count": 12,
     "metadata": {},
     "output_type": "execute_result"
    }
   ],
   "source": [
    "result"
   ]
  },
  {
   "cell_type": "code",
   "execution_count": 13,
   "metadata": {},
   "outputs": [],
   "source": [
    "result.to_csv('final.csv')"
   ]
  },
  {
   "cell_type": "code",
   "execution_count": 14,
   "metadata": {},
   "outputs": [
    {
     "data": {
      "text/plain": [
       "VOLKSWAGEN          1542\n",
       "LUFTHANSA           1453\n",
       "DEUTSCHEBANK        1357\n",
       "ALLIANZ             1169\n",
       "BMW                 1147\n",
       "UNILEVER            1139\n",
       "ZALANDO             1133\n",
       "HENKEL              1133\n",
       "DEUTSCHE TELEKOM    1131\n",
       "DELIVERY HERO       1129\n",
       "SAP                 1122\n",
       "HELLOFRESH          1118\n",
       "HUGO BOSS           1116\n",
       "SIEMENS             1071\n",
       "BASF                 900\n",
       "Name: COMP, dtype: int64"
      ]
     },
     "execution_count": 14,
     "metadata": {},
     "output_type": "execute_result"
    }
   ],
   "source": [
    "result['COMP'].value_counts()"
   ]
  },
  {
   "cell_type": "markdown",
   "metadata": {},
   "source": [
    "## Sentiments from german Bert"
   ]
  },
  {
   "cell_type": "code",
   "execution_count": 15,
   "metadata": {},
   "outputs": [
    {
     "name": "stdout",
     "output_type": "stream",
     "text": [
      "Requirement already satisfied: germansentiment in /Users/dariagerasimenko/opt/anaconda3/lib/python3.8/site-packages (1.1.0)\n",
      "Requirement already satisfied: torch>=1.8.1 in /Users/dariagerasimenko/opt/anaconda3/lib/python3.8/site-packages (from germansentiment) (1.10.2)\n",
      "Requirement already satisfied: transformers in /Users/dariagerasimenko/opt/anaconda3/lib/python3.8/site-packages (from germansentiment) (4.16.2)\n",
      "Requirement already satisfied: typing-extensions in /Users/dariagerasimenko/opt/anaconda3/lib/python3.8/site-packages (from torch>=1.8.1->germansentiment) (3.7.4.3)\n",
      "Requirement already satisfied: filelock in /Users/dariagerasimenko/opt/anaconda3/lib/python3.8/site-packages (from transformers->germansentiment) (3.4.2)\n",
      "Requirement already satisfied: huggingface-hub<1.0,>=0.1.0 in /Users/dariagerasimenko/opt/anaconda3/lib/python3.8/site-packages (from transformers->germansentiment) (0.4.0)\n",
      "Requirement already satisfied: numpy>=1.17 in /Users/dariagerasimenko/opt/anaconda3/lib/python3.8/site-packages (from transformers->germansentiment) (1.23.1)\n",
      "Requirement already satisfied: packaging>=20.0 in /Users/dariagerasimenko/opt/anaconda3/lib/python3.8/site-packages (from transformers->germansentiment) (21.3)\n",
      "Requirement already satisfied: pyyaml>=5.1 in /Users/dariagerasimenko/opt/anaconda3/lib/python3.8/site-packages (from transformers->germansentiment) (5.3.1)\n",
      "Requirement already satisfied: regex!=2019.12.17 in /Users/dariagerasimenko/opt/anaconda3/lib/python3.8/site-packages (from transformers->germansentiment) (2020.10.15)\n",
      "Requirement already satisfied: requests in /Users/dariagerasimenko/opt/anaconda3/lib/python3.8/site-packages (from transformers->germansentiment) (2.27.1)\n",
      "Requirement already satisfied: sacremoses in /Users/dariagerasimenko/opt/anaconda3/lib/python3.8/site-packages (from transformers->germansentiment) (0.0.47)\n",
      "Requirement already satisfied: tokenizers!=0.11.3,>=0.10.1 in /Users/dariagerasimenko/opt/anaconda3/lib/python3.8/site-packages (from transformers->germansentiment) (0.11.4)\n",
      "Requirement already satisfied: tqdm>=4.27 in /Users/dariagerasimenko/opt/anaconda3/lib/python3.8/site-packages (from transformers->germansentiment) (4.50.2)\n",
      "Requirement already satisfied: pyparsing!=3.0.5,>=2.0.2 in /Users/dariagerasimenko/opt/anaconda3/lib/python3.8/site-packages (from packaging>=20.0->transformers->germansentiment) (2.4.7)\n",
      "Requirement already satisfied: urllib3<1.27,>=1.21.1 in /Users/dariagerasimenko/opt/anaconda3/lib/python3.8/site-packages (from requests->transformers->germansentiment) (1.25.11)\n",
      "Requirement already satisfied: certifi>=2017.4.17 in /Users/dariagerasimenko/opt/anaconda3/lib/python3.8/site-packages (from requests->transformers->germansentiment) (2020.6.20)\n",
      "Requirement already satisfied: charset-normalizer~=2.0.0 in /Users/dariagerasimenko/opt/anaconda3/lib/python3.8/site-packages (from requests->transformers->germansentiment) (2.0.10)\n",
      "Requirement already satisfied: idna<4,>=2.5 in /Users/dariagerasimenko/opt/anaconda3/lib/python3.8/site-packages (from requests->transformers->germansentiment) (2.8)\n",
      "Requirement already satisfied: six in /Users/dariagerasimenko/opt/anaconda3/lib/python3.8/site-packages (from sacremoses->transformers->germansentiment) (1.15.0)\n",
      "Requirement already satisfied: click in /Users/dariagerasimenko/opt/anaconda3/lib/python3.8/site-packages (from sacremoses->transformers->germansentiment) (7.1.2)\n",
      "Requirement already satisfied: joblib in /Users/dariagerasimenko/opt/anaconda3/lib/python3.8/site-packages (from sacremoses->transformers->germansentiment) (0.17.0)\n",
      "\u001b[33mDEPRECATION: pyodbc 4.0.0-unsupported has a non-standard version number. pip 23.3 will enforce this behaviour change. A possible replacement is to upgrade to a newer version of pyodbc or contact the author to suggest that they release a version with a conforming version number. Discussion can be found at https://github.com/pypa/pip/issues/12063\u001b[0m\u001b[33m\n",
      "\u001b[0mNote: you may need to restart the kernel to use updated packages.\n"
     ]
    }
   ],
   "source": [
    "pip install germansentiment"
   ]
  },
  {
   "cell_type": "code",
   "execution_count": 16,
   "metadata": {},
   "outputs": [],
   "source": [
    "from germansentiment import SentimentModel\n",
    "\n",
    "model = SentimentModel()"
   ]
  },
  {
   "cell_type": "code",
   "execution_count": 17,
   "metadata": {},
   "outputs": [],
   "source": [
    "def sent(x):\n",
    "    try:\n",
    "        res = model.predict_sentiment(x)\n",
    "    except:\n",
    "        res = 0\n",
    "    return res"
   ]
  },
  {
   "cell_type": "code",
   "execution_count": 18,
   "metadata": {},
   "outputs": [],
   "source": [
    "##result['sentiment'] = result['message'].apply(lambda x: sent(x))"
   ]
  },
  {
   "cell_type": "code",
   "execution_count": 21,
   "metadata": {},
   "outputs": [],
   "source": [
    "import numpy as np"
   ]
  },
  {
   "cell_type": "code",
   "execution_count": 22,
   "metadata": {},
   "outputs": [],
   "source": [
    "result['index'] = result.index"
   ]
  },
  {
   "cell_type": "code",
   "execution_count": 28,
   "metadata": {},
   "outputs": [],
   "source": [
    "indexes = np.array(result[result['message'].notna()]['index'])\n",
    "texts = np.array(result[result['message'].notna()]['message'])"
   ]
  },
  {
   "cell_type": "code",
   "execution_count": 29,
   "metadata": {},
   "outputs": [
    {
     "data": {
      "text/plain": [
       "array(['kurz vor dem gipfeltreffen: alle blicke sind auf vietnam gerichtet\\n#kimjongun #peteraltmaier #donaldtrump #joekaeser #horstgeicke #siemens #isin_de0007236101\\n\\ndas gipfeltreffen zwischen trump und kim rückt das land ins scheinwerferlicht. die deutschen haben erkannt, wie wichtig der standort ist. berlin und brüssel schmieden allianzen mit den kommunisten in hanoi.\\n\\nteilen 👉 @dernewsbot faz444',\n",
       "       'kommentar: die allianz der erzrivalen daimler und bmw ist richtig\\n#daimler #bmw\\n\\ndie deutschen luxuswagenhersteller wollen gemeinsam das roboterauto entwickeln. das ist gut – nicht nur, weil zur konkurrenz auch google gehört. ein kommentar.\\n\\nteilen 👉 @dernewsbot faz663',\n",
       "       'kommentar: die allianz der erzrivalen daimler und bmw ist richtig\\n\\ndie deutschen luxuswagenhersteller wollen gemeinsam das roboterauto entwickeln. das ist gut – nicht nur, weil zur konkurrenz auch google gehört. ein kommentar.\\n\\nteilen 👉 @dernewsbot faz656',\n",
       "       ...,\n",
       "       \"\\u200b\\u200b\\u200b\\u200b\\u200bex-chefs rorsted und diess führen dax-vergütungs-rangliste an\\n#kasperrorsted #herbertdiess #theodorweimer #oliverblume #alexanderhübner #oliverzipse #belengarijo\\n\\nherbert diess' nachfolger oliver blume liegt in der rangliste nur auf platz sechs․ das schlusslicht bilden aber die zalando-chefs․\",\n",
       "       '\\u200b\\u200b\\u200b\\u200b\\u200bder aufstieg und fall des ostdeutschen onlinehandels\\n#stephanieoppitz #georgwittmann #zalando #onlinehandel #aufstieg #wiedervereinigung\\n\\neine neue studie zeigt, dass der onlinehandel nach der wiedervereinigung in ostdeutschland florierte – sogar stärker als im westen․ inzwischen droht die branche dort den anschluss zu verlieren․ woran liegt das?',\n",
       "       '\\u200b\\u200b\\u200b\\u200b\\u200bkommt jetzt der mehrwegversand im onlinehandel?\\n#annalenaschütt #sinamariaschoenlein #tchibo #ottogroup #europäischeunion #amazon\\n\\namazon, zalando und co․ verschicken immer noch unmengen an verpackungsmüll․ die eu will deshalb eine mehrwegquote einführen․ erste anbieter experimentieren mit mehrwegtaschen – doch es gibt noch viele hürden․'],\n",
       "      dtype=object)"
      ]
     },
     "execution_count": 29,
     "metadata": {},
     "output_type": "execute_result"
    }
   ],
   "source": [
    "texts"
   ]
  },
  {
   "cell_type": "code",
   "execution_count": 30,
   "metadata": {},
   "outputs": [],
   "source": [
    "import time"
   ]
  },
  {
   "cell_type": "code",
   "execution_count": 31,
   "metadata": {},
   "outputs": [
    {
     "name": "stdout",
     "output_type": "stream",
     "text": [
      "Execution time: 3370.991641998291 seconds\n"
     ]
    }
   ],
   "source": [
    "\n",
    "start_time = time.time()\n",
    "\n",
    "result_list = model.predict_sentiment(texts)\n",
    "\n",
    "end_time = time.time()\n",
    "\n",
    "execution_time = end_time - start_time\n",
    "\n",
    "\n",
    "# Print the execution time\n",
    "print(f\"Execution time: {execution_time} seconds\")"
   ]
  },
  {
   "cell_type": "code",
   "execution_count": 37,
   "metadata": {},
   "outputs": [
    {
     "data": {
      "text/plain": [
       "3661"
      ]
     },
     "execution_count": 37,
     "metadata": {},
     "output_type": "execute_result"
    }
   ],
   "source": [
    "len(indexes)"
   ]
  },
  {
   "cell_type": "code",
   "execution_count": 46,
   "metadata": {},
   "outputs": [
    {
     "data": {
      "text/plain": [
       "array(['2', '4', '5', ..., 'neutral', 'neutral', 'negative'], dtype='<U21')"
      ]
     },
     "execution_count": 46,
     "metadata": {},
     "output_type": "execute_result"
    }
   ],
   "source": [
    "np.vstack((indexes, np.array(result_list))).T"
   ]
  },
  {
   "cell_type": "code",
   "execution_count": 50,
   "metadata": {},
   "outputs": [],
   "source": [
    "df2 = pd.DataFrame(np.vstack((indexes, np.array(result_list))).T, columns = ['index', 'sentiment'])"
   ]
  },
  {
   "cell_type": "code",
   "execution_count": 51,
   "metadata": {},
   "outputs": [
    {
     "data": {
      "text/html": [
       "<div>\n",
       "<style scoped>\n",
       "    .dataframe tbody tr th:only-of-type {\n",
       "        vertical-align: middle;\n",
       "    }\n",
       "\n",
       "    .dataframe tbody tr th {\n",
       "        vertical-align: top;\n",
       "    }\n",
       "\n",
       "    .dataframe thead th {\n",
       "        text-align: right;\n",
       "    }\n",
       "</style>\n",
       "<table border=\"1\" class=\"dataframe\">\n",
       "  <thead>\n",
       "    <tr style=\"text-align: right;\">\n",
       "      <th></th>\n",
       "      <th>index</th>\n",
       "      <th>sentiment</th>\n",
       "    </tr>\n",
       "  </thead>\n",
       "  <tbody>\n",
       "    <tr>\n",
       "      <th>0</th>\n",
       "      <td>2</td>\n",
       "      <td>neutral</td>\n",
       "    </tr>\n",
       "    <tr>\n",
       "      <th>1</th>\n",
       "      <td>4</td>\n",
       "      <td>neutral</td>\n",
       "    </tr>\n",
       "    <tr>\n",
       "      <th>2</th>\n",
       "      <td>5</td>\n",
       "      <td>positive</td>\n",
       "    </tr>\n",
       "    <tr>\n",
       "      <th>3</th>\n",
       "      <td>6</td>\n",
       "      <td>neutral</td>\n",
       "    </tr>\n",
       "    <tr>\n",
       "      <th>4</th>\n",
       "      <td>7</td>\n",
       "      <td>negative</td>\n",
       "    </tr>\n",
       "    <tr>\n",
       "      <th>...</th>\n",
       "      <td>...</td>\n",
       "      <td>...</td>\n",
       "    </tr>\n",
       "    <tr>\n",
       "      <th>3656</th>\n",
       "      <td>17558</td>\n",
       "      <td>neutral</td>\n",
       "    </tr>\n",
       "    <tr>\n",
       "      <th>3657</th>\n",
       "      <td>17559</td>\n",
       "      <td>neutral</td>\n",
       "    </tr>\n",
       "    <tr>\n",
       "      <th>3658</th>\n",
       "      <td>17590</td>\n",
       "      <td>neutral</td>\n",
       "    </tr>\n",
       "    <tr>\n",
       "      <th>3659</th>\n",
       "      <td>17602</td>\n",
       "      <td>neutral</td>\n",
       "    </tr>\n",
       "    <tr>\n",
       "      <th>3660</th>\n",
       "      <td>17631</td>\n",
       "      <td>negative</td>\n",
       "    </tr>\n",
       "  </tbody>\n",
       "</table>\n",
       "<p>3661 rows × 2 columns</p>\n",
       "</div>"
      ],
      "text/plain": [
       "      index sentiment\n",
       "0         2   neutral\n",
       "1         4   neutral\n",
       "2         5  positive\n",
       "3         6   neutral\n",
       "4         7  negative\n",
       "...     ...       ...\n",
       "3656  17558   neutral\n",
       "3657  17559   neutral\n",
       "3658  17590   neutral\n",
       "3659  17602   neutral\n",
       "3660  17631  negative\n",
       "\n",
       "[3661 rows x 2 columns]"
      ]
     },
     "execution_count": 51,
     "metadata": {},
     "output_type": "execute_result"
    }
   ],
   "source": [
    "df2"
   ]
  },
  {
   "cell_type": "code",
   "execution_count": 57,
   "metadata": {},
   "outputs": [],
   "source": [
    "df2['index'] = df2['index'].astype('int64')"
   ]
  },
  {
   "cell_type": "code",
   "execution_count": 58,
   "metadata": {},
   "outputs": [],
   "source": [
    "df_final = pd.merge(result, df2, how=\"left\", on=[\"index\"])"
   ]
  },
  {
   "cell_type": "code",
   "execution_count": 60,
   "metadata": {},
   "outputs": [],
   "source": [
    "df_final.to_csv('with_sentiments.csv')"
   ]
  },
  {
   "cell_type": "code",
   "execution_count": 61,
   "metadata": {},
   "outputs": [
    {
     "data": {
      "text/plain": [
       "neutral     3331\n",
       "negative     317\n",
       "positive      13\n",
       "Name: sentiment, dtype: int64"
      ]
     },
     "execution_count": 61,
     "metadata": {},
     "output_type": "execute_result"
    }
   ],
   "source": [
    "df_final['sentiment'].value_counts()"
   ]
  },
  {
   "cell_type": "code",
   "execution_count": 62,
   "metadata": {},
   "outputs": [
    {
     "data": {
      "image/png": "[encoded data removed]",
      "text/plain": [
       "<Figure size 576x432 with 1 Axes>"
      ]
     },
     "metadata": {
      "needs_background": "light"
     },
     "output_type": "display_data"
    }
   ],
   "source": [
    "import pandas as pd\n",
    "import matplotlib.pyplot as plt\n",
    "import seaborn as sns\n",
    "\n",
    "# Assuming you already have df_final with the 'sentiment' column\n",
    "\n",
    "# Get the value counts of 'sentiment'\n",
    "sentiment_counts = df_final['sentiment'].value_counts()\n",
    "\n",
    "# Create a bar plot\n",
    "plt.figure(figsize=(8, 6))  # Optional: Set the figure size\n",
    "sns.barplot(x=sentiment_counts.index, y=sentiment_counts.values, palette=\"Set3\")\n",
    "plt.title('Sentiment Distribution')\n",
    "plt.xlabel('Sentiment')\n",
    "plt.ylabel('Count')\n",
    "\n",
    "# Rotate the x-axis labels for better readability (optional)\n",
    "plt.xticks(rotation=45)\n",
    "\n",
    "# Show the plot\n",
    "plt.show()\n"
   ]
  },
  {
   "cell_type": "code",
   "execution_count": 65,
   "metadata": {},
   "outputs": [
    {
     "data": {
      "image/png": "[encoded data removed]",
      "text/plain": [
       "<Figure size 720x432 with 1 Axes>"
      ]
     },
     "metadata": {
      "needs_background": "light"
     },
     "output_type": "display_data"
    }
   ],
   "source": [
    "order = df_final['COMP'].value_counts().index\n",
    "\n",
    "plt.figure(figsize=(10, 6))  # Optional: Set the figure size\n",
    "sns.countplot(data=df_final, x='COMP', hue='sentiment', palette='Set3', order = order)\n",
    "plt.title('Sentiment Distribution by Company')\n",
    "plt.xlabel('Company')\n",
    "plt.ylabel('Count')\n",
    "\n",
    "# Rotate the x-axis labels for better readability (optional)\n",
    "plt.xticks(rotation=45)\n",
    "\n",
    "# Show the plot\n",
    "plt.legend(title='Sentiment', bbox_to_anchor=(1.05, 1), loc='upper left')\n",
    "plt.show()\n",
    "\n",
    "\n",
    "\n"
   ]
  },
  {
   "cell_type": "markdown",
   "metadata": {},
   "source": [
    "## so the predictions for the companies with huge amount of negative news may actually be better than without sentimental analysis"
   ]
  },
  {
   "cell_type": "code",
   "execution_count": 66,
   "metadata": {},
   "outputs": [
    {
     "data": {
      "text/html": [
       "<div>\n",
       "<style scoped>\n",
       "    .dataframe tbody tr th:only-of-type {\n",
       "        vertical-align: middle;\n",
       "    }\n",
       "\n",
       "    .dataframe tbody tr th {\n",
       "        vertical-align: top;\n",
       "    }\n",
       "\n",
       "    .dataframe thead th {\n",
       "        text-align: right;\n",
       "    }\n",
       "</style>\n",
       "<table border=\"1\" class=\"dataframe\">\n",
       "  <thead>\n",
       "    <tr style=\"text-align: right;\">\n",
       "      <th></th>\n",
       "      <th>COMP</th>\n",
       "      <th>Date</th>\n",
       "      <th>Open</th>\n",
       "      <th>High</th>\n",
       "      <th>Low</th>\n",
       "      <th>Close</th>\n",
       "      <th>Volume</th>\n",
       "      <th>message</th>\n",
       "      <th>index</th>\n",
       "      <th>sentiment</th>\n",
       "    </tr>\n",
       "  </thead>\n",
       "  <tbody>\n",
       "    <tr>\n",
       "      <th>0</th>\n",
       "      <td>ALLIANZ</td>\n",
       "      <td>2019-02-22</td>\n",
       "      <td>79.96</td>\n",
       "      <td>81.35</td>\n",
       "      <td>79.80</td>\n",
       "      <td>81.23</td>\n",
       "      <td>423912</td>\n",
       "      <td>NaN</td>\n",
       "      <td>0</td>\n",
       "      <td>NaN</td>\n",
       "    </tr>\n",
       "    <tr>\n",
       "      <th>1</th>\n",
       "      <td>ALLIANZ</td>\n",
       "      <td>2019-02-25</td>\n",
       "      <td>81.76</td>\n",
       "      <td>82.67</td>\n",
       "      <td>81.72</td>\n",
       "      <td>82.41</td>\n",
       "      <td>540216</td>\n",
       "      <td>NaN</td>\n",
       "      <td>1</td>\n",
       "      <td>NaN</td>\n",
       "    </tr>\n",
       "    <tr>\n",
       "      <th>2</th>\n",
       "      <td>ALLIANZ</td>\n",
       "      <td>2019-02-26</td>\n",
       "      <td>82.25</td>\n",
       "      <td>83.16</td>\n",
       "      <td>82.16</td>\n",
       "      <td>82.68</td>\n",
       "      <td>327024</td>\n",
       "      <td>kurz vor dem gipfeltreffen: alle blicke sind a...</td>\n",
       "      <td>2</td>\n",
       "      <td>neutral</td>\n",
       "    </tr>\n",
       "    <tr>\n",
       "      <th>3</th>\n",
       "      <td>ALLIANZ</td>\n",
       "      <td>2019-02-27</td>\n",
       "      <td>82.43</td>\n",
       "      <td>83.53</td>\n",
       "      <td>82.07</td>\n",
       "      <td>83.27</td>\n",
       "      <td>366054</td>\n",
       "      <td>NaN</td>\n",
       "      <td>3</td>\n",
       "      <td>NaN</td>\n",
       "    </tr>\n",
       "    <tr>\n",
       "      <th>4</th>\n",
       "      <td>ALLIANZ</td>\n",
       "      <td>2019-02-28</td>\n",
       "      <td>82.05</td>\n",
       "      <td>82.06</td>\n",
       "      <td>81.07</td>\n",
       "      <td>81.81</td>\n",
       "      <td>519239</td>\n",
       "      <td>kommentar: die allianz der erzrivalen daimler ...</td>\n",
       "      <td>4</td>\n",
       "      <td>neutral</td>\n",
       "    </tr>\n",
       "    <tr>\n",
       "      <th>...</th>\n",
       "      <td>...</td>\n",
       "      <td>...</td>\n",
       "      <td>...</td>\n",
       "      <td>...</td>\n",
       "      <td>...</td>\n",
       "      <td>...</td>\n",
       "      <td>...</td>\n",
       "      <td>...</td>\n",
       "      <td>...</td>\n",
       "      <td>...</td>\n",
       "    </tr>\n",
       "    <tr>\n",
       "      <th>17655</th>\n",
       "      <td>ZALANDO</td>\n",
       "      <td>2023-07-24</td>\n",
       "      <td>30.75</td>\n",
       "      <td>31.25</td>\n",
       "      <td>30.28</td>\n",
       "      <td>30.82</td>\n",
       "      <td>1002680</td>\n",
       "      <td>NaN</td>\n",
       "      <td>17655</td>\n",
       "      <td>NaN</td>\n",
       "    </tr>\n",
       "    <tr>\n",
       "      <th>17656</th>\n",
       "      <td>ZALANDO</td>\n",
       "      <td>2023-07-25</td>\n",
       "      <td>30.75</td>\n",
       "      <td>31.58</td>\n",
       "      <td>30.75</td>\n",
       "      <td>31.35</td>\n",
       "      <td>1146526</td>\n",
       "      <td>NaN</td>\n",
       "      <td>17656</td>\n",
       "      <td>NaN</td>\n",
       "    </tr>\n",
       "    <tr>\n",
       "      <th>17657</th>\n",
       "      <td>ZALANDO</td>\n",
       "      <td>2023-07-26</td>\n",
       "      <td>31.05</td>\n",
       "      <td>31.85</td>\n",
       "      <td>30.45</td>\n",
       "      <td>30.72</td>\n",
       "      <td>825826</td>\n",
       "      <td>NaN</td>\n",
       "      <td>17657</td>\n",
       "      <td>NaN</td>\n",
       "    </tr>\n",
       "    <tr>\n",
       "      <th>17658</th>\n",
       "      <td>ZALANDO</td>\n",
       "      <td>2023-07-27</td>\n",
       "      <td>30.45</td>\n",
       "      <td>32.17</td>\n",
       "      <td>30.45</td>\n",
       "      <td>31.35</td>\n",
       "      <td>980111</td>\n",
       "      <td>NaN</td>\n",
       "      <td>17658</td>\n",
       "      <td>NaN</td>\n",
       "    </tr>\n",
       "    <tr>\n",
       "      <th>17659</th>\n",
       "      <td>ZALANDO</td>\n",
       "      <td>2023-07-28</td>\n",
       "      <td>31.23</td>\n",
       "      <td>31.31</td>\n",
       "      <td>30.35</td>\n",
       "      <td>31.29</td>\n",
       "      <td>799542</td>\n",
       "      <td>NaN</td>\n",
       "      <td>17659</td>\n",
       "      <td>NaN</td>\n",
       "    </tr>\n",
       "  </tbody>\n",
       "</table>\n",
       "<p>17660 rows × 10 columns</p>\n",
       "</div>"
      ],
      "text/plain": [
       "          COMP       Date   Open   High    Low  Close   Volume  \\\n",
       "0      ALLIANZ 2019-02-22  79.96  81.35  79.80  81.23   423912   \n",
       "1      ALLIANZ 2019-02-25  81.76  82.67  81.72  82.41   540216   \n",
       "2      ALLIANZ 2019-02-26  82.25  83.16  82.16  82.68   327024   \n",
       "3      ALLIANZ 2019-02-27  82.43  83.53  82.07  83.27   366054   \n",
       "4      ALLIANZ 2019-02-28  82.05  82.06  81.07  81.81   519239   \n",
       "...        ...        ...    ...    ...    ...    ...      ...   \n",
       "17655  ZALANDO 2023-07-24  30.75  31.25  30.28  30.82  1002680   \n",
       "17656  ZALANDO 2023-07-25  30.75  31.58  30.75  31.35  1146526   \n",
       "17657  ZALANDO 2023-07-26  31.05  31.85  30.45  30.72   825826   \n",
       "17658  ZALANDO 2023-07-27  30.45  32.17  30.45  31.35   980111   \n",
       "17659  ZALANDO 2023-07-28  31.23  31.31  30.35  31.29   799542   \n",
       "\n",
       "                                                 message  index sentiment  \n",
       "0                                                    NaN      0       NaN  \n",
       "1                                                    NaN      1       NaN  \n",
       "2      kurz vor dem gipfeltreffen: alle blicke sind a...      2   neutral  \n",
       "3                                                    NaN      3       NaN  \n",
       "4      kommentar: die allianz der erzrivalen daimler ...      4   neutral  \n",
       "...                                                  ...    ...       ...  \n",
       "17655                                                NaN  17655       NaN  \n",
       "17656                                                NaN  17656       NaN  \n",
       "17657                                                NaN  17657       NaN  \n",
       "17658                                                NaN  17658       NaN  \n",
       "17659                                                NaN  17659       NaN  \n",
       "\n",
       "[17660 rows x 10 columns]"
      ]
     },
     "execution_count": 66,
     "metadata": {},
     "output_type": "execute_result"
    }
   ],
   "source": [
    "df_final"
   ]
  }
 ],
 "metadata": {
  "kernelspec": {
   "display_name": "Python 3",
   "language": "python",
   "name": "python3"
  },
  "language_info": {
   "codemirror_mode": {
    "name": "ipython",
    "version": 3
   },
   "file_extension": ".py",
   "mimetype": "text/x-python",
   "name": "python",
   "nbconvert_exporter": "python",
   "pygments_lexer": "ipython3",
   "version": "3.8.5"
  }
 },
 "nbformat": 4,
 "nbformat_minor": 4
}
